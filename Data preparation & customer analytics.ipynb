{
 "cells": [
  {
   "cell_type": "markdown",
   "metadata": {},
   "source": [
    "Simran Anand\n",
    "\n",
    "Task1\n",
    "\n",
    "Aim: We need to present a strategic recommendation to Julia that is supported by data which she can then use for the upcoming category review however to do so we need to analyse the data to understand the current purchasing trends and behaviours. The client is particularly interested in customer segments and their chip purchasing behaviour. Consider what metrics would help describe the customers’ purchasing behaviour."
   ]
  },
  {
   "cell_type": "code",
   "execution_count": 1,
   "metadata": {},
   "outputs": [],
   "source": [
    "import pandas as pd\n",
    "import matplotlib.pyplot as plt\n",
    "%matplotlib inline\n",
    "import numpy as np"
   ]
  },
  {
   "cell_type": "code",
   "execution_count": 4,
   "metadata": {},
   "outputs": [
    {
     "name": "stdout",
     "output_type": "stream",
     "text": [
      "   LYLTY_CARD_NBR               LIFESTAGE PREMIUM_CUSTOMER\n",
      "0            1000   YOUNG SINGLES/COUPLES          Premium\n",
      "1            1002   YOUNG SINGLES/COUPLES       Mainstream\n",
      "2            1003          YOUNG FAMILIES           Budget\n",
      "3            1004   OLDER SINGLES/COUPLES       Mainstream\n",
      "4            1005  MIDAGE SINGLES/COUPLES       Mainstream\n"
     ]
    }
   ],
   "source": [
    "pur_bhvr = pd.read_csv(\"C:/Users/simmu/Downloads/QVI_purchase_behaviour.csv\")\n",
    "print(pur_bhvr.head())"
   ]
  },
  {
   "cell_type": "code",
   "execution_count": 6,
   "metadata": {},
   "outputs": [
    {
     "name": "stdout",
     "output_type": "stream",
     "text": [
      "    DATE  STORE_NBR  LYLTY_CARD_NBR  TXN_ID  PROD_NBR  \\\n",
      "0  43390          1            1000       1         5   \n",
      "1  43599          1            1307     348        66   \n",
      "2  43605          1            1343     383        61   \n",
      "3  43329          2            2373     974        69   \n",
      "4  43330          2            2426    1038       108   \n",
      "\n",
      "                                  PROD_NAME  PROD_QTY  TOT_SALES  \n",
      "0    Natural Chip        Compny SeaSalt175g         2        6.0  \n",
      "1                  CCs Nacho Cheese    175g         3        6.3  \n",
      "2    Smiths Crinkle Cut  Chips Chicken 170g         2        2.9  \n",
      "3    Smiths Chip Thinly  S/Cream&Onion 175g         5       15.0  \n",
      "4  Kettle Tortilla ChpsHny&Jlpno Chili 150g         3       13.8  \n"
     ]
    }
   ],
   "source": [
    "tran_data = pd.read_excel(\"C:/Users/simmu/Downloads/QVI_transaction_data.xlsx\")\n",
    "print(tran_data.head())"
   ]
  },
  {
   "cell_type": "code",
   "execution_count": 7,
   "metadata": {},
   "outputs": [
    {
     "name": "stdout",
     "output_type": "stream",
     "text": [
      "   LYLTY_CARD_NBR              LIFESTAGE PREMIUM_CUSTOMER   DATE  STORE_NBR  \\\n",
      "0            1000  YOUNG SINGLES/COUPLES          Premium  43390          1   \n",
      "1            1002  YOUNG SINGLES/COUPLES       Mainstream  43359          1   \n",
      "2            1003         YOUNG FAMILIES           Budget  43531          1   \n",
      "3            1003         YOUNG FAMILIES           Budget  43532          1   \n",
      "4            1004  OLDER SINGLES/COUPLES       Mainstream  43406          1   \n",
      "\n",
      "   TXN_ID  PROD_NBR                               PROD_NAME  PROD_QTY  \\\n",
      "0       1         5  Natural Chip        Compny SeaSalt175g         2   \n",
      "1       2        58   Red Rock Deli Chikn&Garlic Aioli 150g         1   \n",
      "2       3        52   Grain Waves Sour    Cream&Chives 210G         1   \n",
      "3       4       106  Natural ChipCo      Hony Soy Chckn175g         1   \n",
      "4       5        96          WW Original Stacked Chips 160g         1   \n",
      "\n",
      "   TOT_SALES  \n",
      "0        6.0  \n",
      "1        2.7  \n",
      "2        3.6  \n",
      "3        3.0  \n",
      "4        1.9  \n"
     ]
    }
   ],
   "source": [
    "merged_data = pd.merge(pur_bhvr, tran_data, on=\"LYLTY_CARD_NBR\", how=\"right\")\n",
    "print(merged_data.head())"
   ]
  },
  {
   "cell_type": "code",
   "execution_count": 8,
   "metadata": {},
   "outputs": [
    {
     "name": "stdout",
     "output_type": "stream",
     "text": [
      "264836\n",
      "264836\n"
     ]
    }
   ],
   "source": [
    "print(len(merged_data))\n",
    "print(len(tran_data))"
   ]
  },
  {
   "cell_type": "code",
   "execution_count": 9,
   "metadata": {},
   "outputs": [
    {
     "name": "stdout",
     "output_type": "stream",
     "text": [
      "<class 'pandas.core.frame.DataFrame'>\n",
      "Int64Index: 264836 entries, 0 to 264835\n",
      "Data columns (total 10 columns):\n",
      " #   Column            Non-Null Count   Dtype  \n",
      "---  ------            --------------   -----  \n",
      " 0   LYLTY_CARD_NBR    264836 non-null  int64  \n",
      " 1   LIFESTAGE         264836 non-null  object \n",
      " 2   PREMIUM_CUSTOMER  264836 non-null  object \n",
      " 3   DATE              264836 non-null  int64  \n",
      " 4   STORE_NBR         264836 non-null  int64  \n",
      " 5   TXN_ID            264836 non-null  int64  \n",
      " 6   PROD_NBR          264836 non-null  int64  \n",
      " 7   PROD_NAME         264836 non-null  object \n",
      " 8   PROD_QTY          264836 non-null  int64  \n",
      " 9   TOT_SALES         264836 non-null  float64\n",
      "dtypes: float64(1), int64(6), object(3)\n",
      "memory usage: 22.2+ MB\n"
     ]
    }
   ],
   "source": [
    "merged_data.info()"
   ]
  },
  {
   "cell_type": "code",
   "execution_count": 10,
   "metadata": {},
   "outputs": [],
   "source": [
    "from datetime import date, timedelta\n",
    "start = date(1899,12,30)\n",
    "\n",
    "new_date_format = []\n",
    "\n",
    "for date in merged_data[\"DATE\"]:\n",
    "    delta = timedelta(date)\n",
    "    new_date_format.append(start + delta)"
   ]
  },
  {
   "cell_type": "code",
   "execution_count": 11,
   "metadata": {},
   "outputs": [
    {
     "name": "stdout",
     "output_type": "stream",
     "text": [
      "datetime64[ns]\n"
     ]
    }
   ],
   "source": [
    "merged_data[\"DATE\"] = pd.to_datetime(pd.Series(new_date_format))\n",
    "print(merged_data[\"DATE\"].dtype)"
   ]
  },
  {
   "cell_type": "code",
   "execution_count": 12,
   "metadata": {},
   "outputs": [
    {
     "data": {
      "text/plain": [
       "array(['Natural Chip        Compny SeaSalt175g',\n",
       "       'Red Rock Deli Chikn&Garlic Aioli 150g',\n",
       "       'Grain Waves Sour    Cream&Chives 210G',\n",
       "       'Natural ChipCo      Hony Soy Chckn175g',\n",
       "       'WW Original Stacked Chips 160g', 'Cheetos Puffs 165g',\n",
       "       'Infuzions SourCream&Herbs Veg Strws 110g',\n",
       "       'RRD SR Slow Rst     Pork Belly 150g',\n",
       "       'Doritos Cheese      Supreme 330g', 'Doritos Mexicana    170g',\n",
       "       'Old El Paso Salsa   Dip Tomato Med 300g',\n",
       "       'GrnWves Plus Btroot & Chilli Jam 180g',\n",
       "       'Smiths Crinkle Cut  Chips Barbecue 170g',\n",
       "       'Kettle Sensations   Camembert & Fig 150g',\n",
       "       'Doritos Corn Chip Southern Chicken 150g',\n",
       "       'CCs Tasty Cheese    175g', 'Tostitos Splash Of  Lime 175g',\n",
       "       'Kettle 135g Swt Pot Sea Salt', 'RRD Salt & Vinegar  165g',\n",
       "       'Infuzions Mango     Chutny Papadums 70g',\n",
       "       'Smiths Crinkle Cut  Snag&Sauce 150g',\n",
       "       'Smiths Crinkle      Original 330g',\n",
       "       'RRD Sweet Chilli &  Sour Cream 165g',\n",
       "       'Smiths Chip Thinly  S/Cream&Onion 175g',\n",
       "       'Smiths Crinkle Chips Salt & Vinegar 330g',\n",
       "       'Red Rock Deli SR    Salsa & Mzzrlla 150g',\n",
       "       'Cobs Popd Sea Salt  Chips 110g',\n",
       "       'Natural ChipCo Sea  Salt & Vinegr 175g',\n",
       "       'Natural Chip Co     Tmato Hrb&Spce 175g', 'Burger Rings 220g',\n",
       "       'Woolworths Cheese   Rings 190g',\n",
       "       'Smiths Thinly       Swt Chli&S/Cream175G',\n",
       "       'Thins Chips Seasonedchicken 175g',\n",
       "       'Smiths Thinly Cut   Roast Chicken 175g',\n",
       "       'Tyrrells Crisps     Ched & Chives 165g',\n",
       "       'Doritos Corn Chips  Cheese Supreme 170g',\n",
       "       'Smiths Chip Thinly  Cut Original 175g',\n",
       "       'Smiths Crinkle Cut  Chips Original 170g',\n",
       "       'Thins Chips Light&  Tangy 175g',\n",
       "       'Doritos Corn Chips  Original 170g',\n",
       "       'Kettle Sensations   Siracha Lime 150g',\n",
       "       'Smiths Crinkle Cut  Salt & Vinegar 170g',\n",
       "       'Smith Crinkle Cut   Bolognese 150g', 'Cheezels Cheese 330g',\n",
       "       'Kettle Chilli 175g', 'Tyrrells Crisps     Lightly Salted 165g',\n",
       "       'Twisties Cheese     270g', 'WW Crinkle Cut      Chicken 175g',\n",
       "       'RRD Chilli&         Coconut 150g',\n",
       "       'Infuzions BBQ Rib   Prawn Crackers 110g',\n",
       "       'Sunbites Whlegrn    Crisps Frch/Onin 90g',\n",
       "       'Doritos Salsa       Medium 300g',\n",
       "       'Kettle Tortilla ChpsFeta&Garlic 150g',\n",
       "       'Smiths Crinkle Cut  French OnionDip 150g',\n",
       "       'WW D/Style Chip     Sea Salt 200g',\n",
       "       'Smiths Chip Thinly  CutSalt/Vinegr175g',\n",
       "       'Kettle Sensations   BBQ&Maple 150g',\n",
       "       'Old El Paso Salsa   Dip Tomato Mild 300g',\n",
       "       'Tostitos Smoked     Chipotle 175g', 'RRD Lime & Pepper   165g',\n",
       "       'CCs Nacho Cheese    175g', 'Snbts Whlgrn Crisps Cheddr&Mstrd 90g',\n",
       "       'Kettle Tortilla ChpsBtroot&Ricotta 150g',\n",
       "       'Pringles Sthrn FriedChicken 134g',\n",
       "       'Pringles Chicken    Salt Crips 134g',\n",
       "       'French Fries Potato Chips 175g',\n",
       "       'Kettle Mozzarella   Basil & Pesto 175g', 'CCs Original 175g',\n",
       "       'Tostitos Lightly    Salted 175g',\n",
       "       'Smiths Crnkle Chip  Orgnl Big Bag 380g',\n",
       "       'Smiths Crinkle Cut  Chips Chicken 170g',\n",
       "       'Smiths Crinkle Cut  Chips Chs&Onion170g', 'Twisties Chicken270g',\n",
       "       'Woolworths Medium   Salsa 300g',\n",
       "       'Red Rock Deli Sp    Salt & Truffle 150G',\n",
       "       'RRD Pc Sea Salt     165g', 'WW Supreme Cheese   Corn Chips 200g',\n",
       "       'WW Original Corn    Chips 200g', 'Woolworths Mild     Salsa 300g',\n",
       "       'Cheezels Cheese Box 125g', 'Doritos Salsa Mild  300g',\n",
       "       'Cobs Popd Swt/Chlli &Sr/Cream Chips 110g',\n",
       "       'Infzns Crn Crnchers Tangy Gcamole 110g',\n",
       "       'WW Sour Cream &OnionStacked Chips 160g',\n",
       "       'Pringles Mystery    Flavour 134g', 'Pringles Barbeque   134g',\n",
       "       'Grain Waves         Sweet Chilli 210g',\n",
       "       'Pringles Sweet&Spcy BBQ 134g', 'Kettle Original 175g',\n",
       "       'Infuzions Thai SweetChili PotatoMix 110g',\n",
       "       'Old El Paso Salsa   Dip Chnky Tom Ht300g',\n",
       "       'Smiths Crinkle Cut  Tomato Salsa 150g',\n",
       "       'Cheetos Chs & Bacon Balls 190g',\n",
       "       'Kettle Sweet Chilli And Sour Cream 175g',\n",
       "       'Doritos Corn Chips  Nacho Cheese 170g',\n",
       "       'Cobs Popd Sour Crm  &Chives Chips 110g',\n",
       "       'Red Rock Deli Thai  Chilli&Lime 150g',\n",
       "       'Twisties Cheese     Burger 250g',\n",
       "       'Kettle Sea Salt     And Vinegar 175g',\n",
       "       'WW Crinkle Cut      Original 175g',\n",
       "       'Dorito Corn Chp     Supreme 380g',\n",
       "       'Doritos Corn Chip Mexican Jalapeno 150g',\n",
       "       'Pringles SourCream  Onion 134g',\n",
       "       'Kettle Tortilla ChpsHny&Jlpno Chili 150g',\n",
       "       'RRD Steak &         Chimuchurri 150g',\n",
       "       'Thins Chips Salt &  Vinegar 175g',\n",
       "       'Thins Chips         Originl saltd 175g',\n",
       "       'RRD Honey Soy       Chicken 165g',\n",
       "       'Kettle Honey Soy    Chicken 175g',\n",
       "       'NCC Sour Cream &    Garden Chives 175g',\n",
       "       'Pringles Original   Crisps 134g',\n",
       "       'Smith Crinkle Cut   Mac N Cheese 150g',\n",
       "       'Thins Potato Chips  Hot & Spicy 175g', 'Pringles Slt Vingar 134g'],\n",
       "      dtype=object)"
      ]
     },
     "execution_count": 12,
     "metadata": {},
     "output_type": "execute_result"
    }
   ],
   "source": [
    "merged_data[\"PROD_NAME\"].unique()"
   ]
  },
  {
   "cell_type": "code",
   "execution_count": 13,
   "metadata": {},
   "outputs": [],
   "source": [
    "split_prods = merged_data[\"PROD_NAME\"].str.replace(r'([0-9]+[gG])','').str.replace(r'[^\\w]', ' ').str.split()"
   ]
  },
  {
   "cell_type": "code",
   "execution_count": 14,
   "metadata": {},
   "outputs": [
    {
     "name": "stdout",
     "output_type": "stream",
     "text": [
      "Chips     49770\n",
      "Kettle    41288\n",
      "Smiths    28860\n",
      "Salt      27976\n",
      "Cheese    27890\n",
      "          ...  \n",
      "Onin       1432\n",
      "Pc         1431\n",
      "Garden     1419\n",
      "NCC        1419\n",
      "Fries      1418\n",
      "Length: 198, dtype: int64\n"
     ]
    }
   ],
   "source": [
    "word_counts = {}\n",
    "\n",
    "def count_words(line):\n",
    "    for word in line:\n",
    "        if word not in word_counts:\n",
    "            word_counts[word] = 1\n",
    "        else:\n",
    "            word_counts[word] += 1\n",
    "            \n",
    "split_prods.apply(lambda line: count_words(line))\n",
    "print(pd.Series(word_counts).sort_values(ascending=False))"
   ]
  },
  {
   "cell_type": "code",
   "execution_count": 15,
   "metadata": {},
   "outputs": [],
   "source": [
    "merged_data = merged_data[~merged_data[\"PROD_NAME\"].str.contains(r\"[Ss]alsa\")]"
   ]
  },
  {
   "cell_type": "code",
   "execution_count": 16,
   "metadata": {},
   "outputs": [
    {
     "name": "stdout",
     "output_type": "stream",
     "text": [
      "       LYLTY_CARD_NBR      STORE_NBR        TXN_ID       PROD_NBR  \\\n",
      "count    2.467420e+05  246742.000000  2.467420e+05  246742.000000   \n",
      "mean     1.355310e+05     135.051098  1.351311e+05      56.351789   \n",
      "std      8.071528e+04      76.787096  7.814772e+04      33.695428   \n",
      "min      1.000000e+03       1.000000  1.000000e+00       1.000000   \n",
      "25%      7.001500e+04      70.000000  6.756925e+04      26.000000   \n",
      "50%      1.303670e+05     130.000000  1.351830e+05      53.000000   \n",
      "75%      2.030840e+05     203.000000  2.026538e+05      87.000000   \n",
      "max      2.373711e+06     272.000000  2.415841e+06     114.000000   \n",
      "\n",
      "            PROD_QTY      TOT_SALES  \n",
      "count  246742.000000  246742.000000  \n",
      "mean        1.908062       7.321322  \n",
      "std         0.659831       3.077828  \n",
      "min         1.000000       1.700000  \n",
      "25%         2.000000       5.800000  \n",
      "50%         2.000000       7.400000  \n",
      "75%         2.000000       8.800000  \n",
      "max       200.000000     650.000000   \n",
      "\n",
      "<class 'pandas.core.frame.DataFrame'>\n",
      "Int64Index: 246742 entries, 0 to 264835\n",
      "Data columns (total 10 columns):\n",
      " #   Column            Non-Null Count   Dtype         \n",
      "---  ------            --------------   -----         \n",
      " 0   LYLTY_CARD_NBR    246742 non-null  int64         \n",
      " 1   LIFESTAGE         246742 non-null  object        \n",
      " 2   PREMIUM_CUSTOMER  246742 non-null  object        \n",
      " 3   DATE              246742 non-null  datetime64[ns]\n",
      " 4   STORE_NBR         246742 non-null  int64         \n",
      " 5   TXN_ID            246742 non-null  int64         \n",
      " 6   PROD_NBR          246742 non-null  int64         \n",
      " 7   PROD_NAME         246742 non-null  object        \n",
      " 8   PROD_QTY          246742 non-null  int64         \n",
      " 9   TOT_SALES         246742 non-null  float64       \n",
      "dtypes: datetime64[ns](1), float64(1), int64(5), object(3)\n",
      "memory usage: 20.7+ MB\n",
      "None\n"
     ]
    }
   ],
   "source": [
    "print(merged_data.describe(), '\\n')\n",
    "print(merged_data.info())"
   ]
  },
  {
   "cell_type": "code",
   "execution_count": 17,
   "metadata": {},
   "outputs": [
    {
     "data": {
      "text/plain": [
       "(0.8, 50.75]       246740\n",
       "(50.75, 100.5]          0\n",
       "(100.5, 150.25]         0\n",
       "(150.25, 200.0]         2\n",
       "Name: PROD_QTY, dtype: int64"
      ]
     },
     "execution_count": 17,
     "metadata": {},
     "output_type": "execute_result"
    }
   ],
   "source": [
    "merged_data[\"PROD_QTY\"].value_counts(bins=4).sort_index()"
   ]
  },
  {
   "cell_type": "code",
   "execution_count": 18,
   "metadata": {},
   "outputs": [
    {
     "data": {
      "text/html": [
       "<div>\n",
       "<style scoped>\n",
       "    .dataframe tbody tr th:only-of-type {\n",
       "        vertical-align: middle;\n",
       "    }\n",
       "\n",
       "    .dataframe tbody tr th {\n",
       "        vertical-align: top;\n",
       "    }\n",
       "\n",
       "    .dataframe thead th {\n",
       "        text-align: right;\n",
       "    }\n",
       "</style>\n",
       "<table border=\"1\" class=\"dataframe\">\n",
       "  <thead>\n",
       "    <tr style=\"text-align: right;\">\n",
       "      <th></th>\n",
       "      <th>LYLTY_CARD_NBR</th>\n",
       "      <th>LIFESTAGE</th>\n",
       "      <th>PREMIUM_CUSTOMER</th>\n",
       "      <th>DATE</th>\n",
       "      <th>STORE_NBR</th>\n",
       "      <th>TXN_ID</th>\n",
       "      <th>PROD_NBR</th>\n",
       "      <th>PROD_NAME</th>\n",
       "      <th>PROD_QTY</th>\n",
       "      <th>TOT_SALES</th>\n",
       "    </tr>\n",
       "  </thead>\n",
       "  <tbody>\n",
       "    <tr>\n",
       "      <th>221625</th>\n",
       "      <td>226000</td>\n",
       "      <td>OLDER FAMILIES</td>\n",
       "      <td>Premium</td>\n",
       "      <td>2018-08-19</td>\n",
       "      <td>226</td>\n",
       "      <td>226201</td>\n",
       "      <td>4</td>\n",
       "      <td>Dorito Corn Chp     Supreme 380g</td>\n",
       "      <td>200</td>\n",
       "      <td>650.0</td>\n",
       "    </tr>\n",
       "    <tr>\n",
       "      <th>221626</th>\n",
       "      <td>226000</td>\n",
       "      <td>OLDER FAMILIES</td>\n",
       "      <td>Premium</td>\n",
       "      <td>2019-05-20</td>\n",
       "      <td>226</td>\n",
       "      <td>226210</td>\n",
       "      <td>4</td>\n",
       "      <td>Dorito Corn Chp     Supreme 380g</td>\n",
       "      <td>200</td>\n",
       "      <td>650.0</td>\n",
       "    </tr>\n",
       "    <tr>\n",
       "      <th>218544</th>\n",
       "      <td>223025</td>\n",
       "      <td>YOUNG FAMILIES</td>\n",
       "      <td>Mainstream</td>\n",
       "      <td>2018-08-15</td>\n",
       "      <td>223</td>\n",
       "      <td>223075</td>\n",
       "      <td>8</td>\n",
       "      <td>Smiths Crinkle Cut  Chips Original 170g</td>\n",
       "      <td>5</td>\n",
       "      <td>14.5</td>\n",
       "    </tr>\n",
       "    <tr>\n",
       "      <th>91147</th>\n",
       "      <td>94098</td>\n",
       "      <td>YOUNG FAMILIES</td>\n",
       "      <td>Budget</td>\n",
       "      <td>2019-05-18</td>\n",
       "      <td>94</td>\n",
       "      <td>93080</td>\n",
       "      <td>114</td>\n",
       "      <td>Kettle Sensations   Siracha Lime 150g</td>\n",
       "      <td>5</td>\n",
       "      <td>23.0</td>\n",
       "    </tr>\n",
       "    <tr>\n",
       "      <th>87093</th>\n",
       "      <td>90215</td>\n",
       "      <td>RETIREES</td>\n",
       "      <td>Premium</td>\n",
       "      <td>2018-08-19</td>\n",
       "      <td>90</td>\n",
       "      <td>88934</td>\n",
       "      <td>95</td>\n",
       "      <td>Sunbites Whlegrn    Crisps Frch/Onin 90g</td>\n",
       "      <td>5</td>\n",
       "      <td>8.5</td>\n",
       "    </tr>\n",
       "  </tbody>\n",
       "</table>\n",
       "</div>"
      ],
      "text/plain": [
       "        LYLTY_CARD_NBR       LIFESTAGE PREMIUM_CUSTOMER       DATE  STORE_NBR  \\\n",
       "221625          226000  OLDER FAMILIES          Premium 2018-08-19        226   \n",
       "221626          226000  OLDER FAMILIES          Premium 2019-05-20        226   \n",
       "218544          223025  YOUNG FAMILIES       Mainstream 2018-08-15        223   \n",
       "91147            94098  YOUNG FAMILIES           Budget 2019-05-18         94   \n",
       "87093            90215        RETIREES          Premium 2018-08-19         90   \n",
       "\n",
       "        TXN_ID  PROD_NBR                                 PROD_NAME  PROD_QTY  \\\n",
       "221625  226201         4          Dorito Corn Chp     Supreme 380g       200   \n",
       "221626  226210         4          Dorito Corn Chp     Supreme 380g       200   \n",
       "218544  223075         8   Smiths Crinkle Cut  Chips Original 170g         5   \n",
       "91147    93080       114     Kettle Sensations   Siracha Lime 150g         5   \n",
       "87093    88934        95  Sunbites Whlegrn    Crisps Frch/Onin 90g         5   \n",
       "\n",
       "        TOT_SALES  \n",
       "221625      650.0  \n",
       "221626      650.0  \n",
       "218544       14.5  \n",
       "91147        23.0  \n",
       "87093         8.5  "
      ]
     },
     "execution_count": 18,
     "metadata": {},
     "output_type": "execute_result"
    }
   ],
   "source": [
    "merged_data.sort_values(by=\"PROD_QTY\", ascending=False).head()"
   ]
  },
  {
   "cell_type": "code",
   "execution_count": 19,
   "metadata": {},
   "outputs": [],
   "source": [
    "merged_data = merged_data[merged_data[\"PROD_QTY\"] < 6]"
   ]
  },
  {
   "cell_type": "code",
   "execution_count": 20,
   "metadata": {},
   "outputs": [
    {
     "data": {
      "text/plain": [
       "0"
      ]
     },
     "execution_count": 20,
     "metadata": {},
     "output_type": "execute_result"
    }
   ],
   "source": [
    "len(merged_data[merged_data[\"LYLTY_CARD_NBR\"] == 226000])"
   ]
  },
  {
   "cell_type": "code",
   "execution_count": 21,
   "metadata": {},
   "outputs": [
    {
     "data": {
      "text/plain": [
       "count                  246740\n",
       "unique                    364\n",
       "top       2018-12-24 00:00:00\n",
       "freq                      865\n",
       "first     2018-07-01 00:00:00\n",
       "last      2019-06-30 00:00:00\n",
       "Name: DATE, dtype: object"
      ]
     },
     "execution_count": 21,
     "metadata": {},
     "output_type": "execute_result"
    }
   ],
   "source": [
    "merged_data[\"DATE\"].describe()"
   ]
  },
  {
   "cell_type": "code",
   "execution_count": 22,
   "metadata": {},
   "outputs": [
    {
     "data": {
      "text/plain": [
       "DatetimeIndex(['2018-12-25'], dtype='datetime64[ns]', freq=None)"
      ]
     },
     "execution_count": 22,
     "metadata": {},
     "output_type": "execute_result"
    }
   ],
   "source": [
    "pd.date_range(start=merged_data[\"DATE\"].min(), end=merged_data[\"DATE\"].max()).difference(merged_data[\"DATE\"])"
   ]
  },
  {
   "cell_type": "code",
   "execution_count": 23,
   "metadata": {},
   "outputs": [],
   "source": [
    "check_null_date = pd.merge(pd.Series(pd.date_range(start=merged_data[\"DATE\"].min(), end=merged_data[\"DATE\"].max()), name=\"DATE\"), merged_data, on=\"DATE\", how=\"left\")"
   ]
  },
  {
   "cell_type": "code",
   "execution_count": 24,
   "metadata": {},
   "outputs": [
    {
     "name": "stderr",
     "output_type": "stream",
     "text": [
      "<ipython-input-24-502b977c9a27>:2: FutureWarning: The pandas.datetime class is deprecated and will be removed from pandas in a future version. Import from datetime module instead.\n",
      "  dec = trans_by_date[(trans_by_date.index >= pd.datetime(2018,12,1)) & (trans_by_date.index < pd.datetime(2019,1,1))].sort_index()\n"
     ]
    },
    {
     "data": {
      "image/png": "[encoded data removed]",
      "text/plain": [
       "<Figure size 1080x216 with 1 Axes>"
      ]
     },
     "metadata": {
      "needs_background": "light"
     },
     "output_type": "display_data"
    }
   ],
   "source": [
    "trans_by_date = check_null_date[\"DATE\"].value_counts()\n",
    "dec = trans_by_date[(trans_by_date.index >= pd.datetime(2018,12,1)) & (trans_by_date.index < pd.datetime(2019,1,1))].sort_index()\n",
    "dec.index = dec.index.strftime('%d')\n",
    "ax = dec.plot(figsize=(15,3))\n",
    "ax.set_xticks(np.arange(len(dec)))\n",
    "ax.set_xticklabels(dec.index)\n",
    "plt.title(\"2018 December Sales\")\n",
    "plt.savefig(\"2018 December Sales.png\", bbox_inches=\"tight\")\n",
    "plt.show()"
   ]
  },
  {
   "cell_type": "code",
   "execution_count": 25,
   "metadata": {},
   "outputs": [
    {
     "data": {
      "text/plain": [
       "2018-12-25      1\n",
       "2019-06-13    607\n",
       "2018-09-22    609\n",
       "2018-11-25    610\n",
       "2018-10-18    611\n",
       "Name: DATE, dtype: int64"
      ]
     },
     "execution_count": 25,
     "metadata": {},
     "output_type": "execute_result"
    }
   ],
   "source": [
    "check_null_date[\"DATE\"].value_counts().sort_values().head()"
   ]
  },
  {
   "cell_type": "code",
   "execution_count": 26,
   "metadata": {},
   "outputs": [
    {
     "name": "stdout",
     "output_type": "stream",
     "text": [
      "count    240676.000000\n",
      "mean        175.302286\n",
      "std          60.014468\n",
      "min          70.000000\n",
      "25%         150.000000\n",
      "50%         170.000000\n",
      "75%         175.000000\n",
      "max         380.000000\n",
      "Name: 0, dtype: float64\n"
     ]
    },
    {
     "data": {
      "text/plain": [
       "<matplotlib.axes._subplots.AxesSubplot at 0x1f4c5b7a340>"
      ]
     },
     "execution_count": 26,
     "metadata": {},
     "output_type": "execute_result"
    },
    {
     "data": {
      "image/png": "[encoded data removed]",
      "text/plain": [
       "<Figure size 432x288 with 1 Axes>"
      ]
     },
     "metadata": {
      "needs_background": "light"
     },
     "output_type": "display_data"
    }
   ],
   "source": [
    "merged_data[\"PROD_NAME\"] = merged_data[\"PROD_NAME\"].str.replace(r'[0-9]+(G)','g')\n",
    "pack_sizes = merged_data[\"PROD_NAME\"].str.extract(r'([0-9]+[gG])')[0].str.replace(\"g\",\"\").astype(\"float\")\n",
    "print(pack_sizes.describe())\n",
    "pack_sizes.plot.hist()"
   ]
  },
  {
   "cell_type": "code",
   "execution_count": 28,
   "metadata": {},
   "outputs": [
    {
     "data": {
      "text/plain": [
       "Burger         1564\n",
       "CCs            4551\n",
       "Cheetos        2927\n",
       "Cheezels       4603\n",
       "Cobs           9693\n",
       "Dorito         3183\n",
       "Doritos       22041\n",
       "French         1418\n",
       "Grain          6272\n",
       "GrnWves        1468\n",
       "Infuzions     11057\n",
       "Infzns         3144\n",
       "Kettle        41288\n",
       "NCC            1419\n",
       "Natural        6050\n",
       "Pringles      25102\n",
       "RRD           11894\n",
       "Red            4427\n",
       "Smith          2963\n",
       "Smiths        27390\n",
       "Snbts          1576\n",
       "Sunbites       1432\n",
       "Thins         14075\n",
       "Tostitos       9471\n",
       "Twisties       9454\n",
       "Tyrrells       6442\n",
       "WW            10320\n",
       "Woolworths     1516\n",
       "Name: PROD_NAME, dtype: int64"
      ]
     },
     "execution_count": 28,
     "metadata": {},
     "output_type": "execute_result"
    }
   ],
   "source": [
    "merged_data[\"PROD_NAME\"].str.split().str[0].value_counts().sort_index()"
   ]
  },
  {
   "cell_type": "code",
   "execution_count": 29,
   "metadata": {},
   "outputs": [
    {
     "data": {
      "text/plain": [
       "[Grain, Waves, Sweet, Chilli, 210g]      3167\n",
       "[Grain, Waves, Sour, Cream&Chives, g]    3105\n",
       "Name: PROD_NAME, dtype: int64"
      ]
     },
     "execution_count": 29,
     "metadata": {},
     "output_type": "execute_result"
    }
   ],
   "source": [
    "merged_data[\"PROD_NAME\"].str.split()[merged_data[\"PROD_NAME\"].str.split().str[0] == \"Grain\"].value_counts()"
   ]
  },
  {
   "cell_type": "code",
   "execution_count": 30,
   "metadata": {},
   "outputs": [
    {
     "data": {
      "text/plain": [
       "[Natural, Chip, Co, Tmato, Hrb&Spce, 175g]       1572\n",
       "[Natural, ChipCo, Sea, Salt, &, Vinegr, 175g]    1550\n",
       "[Natural, Chip, Compny, SeaSalt175g]             1468\n",
       "[Natural, ChipCo, Hony, Soy, Chckn175g]          1460\n",
       "Name: PROD_NAME, dtype: int64"
      ]
     },
     "execution_count": 30,
     "metadata": {},
     "output_type": "execute_result"
    }
   ],
   "source": [
    "merged_data[\"PROD_NAME\"].str.split()[merged_data[\"PROD_NAME\"].str.split().str[0] == \"Natural\"].value_counts()"
   ]
  },
  {
   "cell_type": "code",
   "execution_count": 31,
   "metadata": {},
   "outputs": [
    {
     "data": {
      "text/plain": [
       "[Red, Rock, Deli, Sp, Salt, &, Truffle, g]      1498\n",
       "[Red, Rock, Deli, Thai, Chilli&Lime, 150g]      1495\n",
       "[Red, Rock, Deli, Chikn&Garlic, Aioli, 150g]    1434\n",
       "Name: PROD_NAME, dtype: int64"
      ]
     },
     "execution_count": 31,
     "metadata": {},
     "output_type": "execute_result"
    }
   ],
   "source": [
    "merged_data[\"PROD_NAME\"].str.split()[merged_data[\"PROD_NAME\"].str.split().str[0] == \"Red\"].value_counts()"
   ]
  },
  {
   "cell_type": "code",
   "execution_count": 32,
   "metadata": {},
   "outputs": [],
   "source": [
    "merged_data[\"Cleaned_Brand_Names\"] = merged_data[\"PROD_NAME\"].str.split().str[0]"
   ]
  },
  {
   "cell_type": "code",
   "execution_count": 33,
   "metadata": {},
   "outputs": [],
   "source": [
    "def clean_brand_names(line):\n",
    "    brand = line[\"Cleaned_Brand_Names\"]\n",
    "    if brand == \"Dorito\":\n",
    "        return \"Doritos\"\n",
    "    elif brand == \"GrnWves\" or brand == \"Grain\":\n",
    "        return \"Grain Waves\"\n",
    "    elif brand == \"Infzns\":\n",
    "        return \"Infuzions\"\n",
    "    elif brand == \"Natural\" or brand == \"NCC\":\n",
    "        return \"Natural Chip Co\"\n",
    "    elif brand == \"Red\":\n",
    "        return \"RRD\"\n",
    "    elif brand == \"Smith\":\n",
    "        return \"Smiths\"\n",
    "    elif brand == \"Snbts\":\n",
    "        return \"Sunbites\"\n",
    "    elif brand == \"WW\":\n",
    "        return \"Woolworths\"\n",
    "    else:\n",
    "        return brand"
   ]
  },
  {
   "cell_type": "code",
   "execution_count": 34,
   "metadata": {},
   "outputs": [],
   "source": [
    "merged_data[\"Cleaned_Brand_Names\"] = merged_data.apply(lambda line: clean_brand_names(line), axis=1)"
   ]
  },
  {
   "cell_type": "code",
   "execution_count": 35,
   "metadata": {},
   "outputs": [
    {
     "data": {
      "text/plain": [
       "<matplotlib.axes._subplots.AxesSubplot at 0x1f4cbdaa9a0>"
      ]
     },
     "execution_count": 35,
     "metadata": {},
     "output_type": "execute_result"
    },
    {
     "data": {
      "image/png": "[encoded data removed]",
      "text/plain": [
       "<Figure size 720x360 with 1 Axes>"
      ]
     },
     "metadata": {
      "needs_background": "light"
     },
     "output_type": "display_data"
    }
   ],
   "source": [
    "merged_data[\"Cleaned_Brand_Names\"].value_counts(ascending=True).plot.barh(figsize=(10,5))"
   ]
  },
  {
   "cell_type": "code",
   "execution_count": 36,
   "metadata": {},
   "outputs": [
    {
     "data": {
      "text/plain": [
       "LYLTY_CARD_NBR         0\n",
       "LIFESTAGE              0\n",
       "PREMIUM_CUSTOMER       0\n",
       "DATE                   0\n",
       "STORE_NBR              0\n",
       "TXN_ID                 0\n",
       "PROD_NBR               0\n",
       "PROD_NAME              0\n",
       "PROD_QTY               0\n",
       "TOT_SALES              0\n",
       "Cleaned_Brand_Names    0\n",
       "dtype: int64"
      ]
     },
     "execution_count": 36,
     "metadata": {},
     "output_type": "execute_result"
    }
   ],
   "source": [
    "merged_data.isnull().sum()"
   ]
  },
  {
   "cell_type": "code",
   "execution_count": 37,
   "metadata": {},
   "outputs": [
    {
     "data": {
      "text/html": [
       "<div>\n",
       "<style scoped>\n",
       "    .dataframe tbody tr th:only-of-type {\n",
       "        vertical-align: middle;\n",
       "    }\n",
       "\n",
       "    .dataframe tbody tr th {\n",
       "        vertical-align: top;\n",
       "    }\n",
       "\n",
       "    .dataframe thead th {\n",
       "        text-align: right;\n",
       "    }\n",
       "</style>\n",
       "<table border=\"1\" class=\"dataframe\">\n",
       "  <thead>\n",
       "    <tr style=\"text-align: right;\">\n",
       "      <th></th>\n",
       "      <th></th>\n",
       "      <th>sum</th>\n",
       "      <th>mean</th>\n",
       "    </tr>\n",
       "    <tr>\n",
       "      <th>LIFESTAGE</th>\n",
       "      <th>PREMIUM_CUSTOMER</th>\n",
       "      <th></th>\n",
       "      <th></th>\n",
       "    </tr>\n",
       "  </thead>\n",
       "  <tbody>\n",
       "    <tr>\n",
       "      <th>OLDER FAMILIES</th>\n",
       "      <th>Budget</th>\n",
       "      <td>156863.75</td>\n",
       "      <td>7.291241</td>\n",
       "    </tr>\n",
       "    <tr>\n",
       "      <th>YOUNG SINGLES/COUPLES</th>\n",
       "      <th>Mainstream</th>\n",
       "      <td>147582.20</td>\n",
       "      <td>7.551279</td>\n",
       "    </tr>\n",
       "    <tr>\n",
       "      <th>RETIREES</th>\n",
       "      <th>Mainstream</th>\n",
       "      <td>145168.95</td>\n",
       "      <td>7.269352</td>\n",
       "    </tr>\n",
       "    <tr>\n",
       "      <th>YOUNG FAMILIES</th>\n",
       "      <th>Budget</th>\n",
       "      <td>129717.95</td>\n",
       "      <td>7.302705</td>\n",
       "    </tr>\n",
       "    <tr>\n",
       "      <th rowspan=\"3\" valign=\"top\">OLDER SINGLES/COUPLES</th>\n",
       "      <th>Budget</th>\n",
       "      <td>127833.60</td>\n",
       "      <td>7.444305</td>\n",
       "    </tr>\n",
       "    <tr>\n",
       "      <th>Mainstream</th>\n",
       "      <td>124648.50</td>\n",
       "      <td>7.306049</td>\n",
       "    </tr>\n",
       "    <tr>\n",
       "      <th>Premium</th>\n",
       "      <td>123537.55</td>\n",
       "      <td>7.459997</td>\n",
       "    </tr>\n",
       "    <tr>\n",
       "      <th>RETIREES</th>\n",
       "      <th>Budget</th>\n",
       "      <td>105916.30</td>\n",
       "      <td>7.445786</td>\n",
       "    </tr>\n",
       "    <tr>\n",
       "      <th>OLDER FAMILIES</th>\n",
       "      <th>Mainstream</th>\n",
       "      <td>96413.55</td>\n",
       "      <td>7.281440</td>\n",
       "    </tr>\n",
       "    <tr>\n",
       "      <th>RETIREES</th>\n",
       "      <th>Premium</th>\n",
       "      <td>91296.65</td>\n",
       "      <td>7.461315</td>\n",
       "    </tr>\n",
       "    <tr>\n",
       "      <th>YOUNG FAMILIES</th>\n",
       "      <th>Mainstream</th>\n",
       "      <td>86338.25</td>\n",
       "      <td>7.226772</td>\n",
       "    </tr>\n",
       "    <tr>\n",
       "      <th>MIDAGE SINGLES/COUPLES</th>\n",
       "      <th>Mainstream</th>\n",
       "      <td>84734.25</td>\n",
       "      <td>7.637156</td>\n",
       "    </tr>\n",
       "    <tr>\n",
       "      <th>YOUNG FAMILIES</th>\n",
       "      <th>Premium</th>\n",
       "      <td>78571.70</td>\n",
       "      <td>7.285951</td>\n",
       "    </tr>\n",
       "    <tr>\n",
       "      <th>OLDER FAMILIES</th>\n",
       "      <th>Premium</th>\n",
       "      <td>75242.60</td>\n",
       "      <td>7.232779</td>\n",
       "    </tr>\n",
       "    <tr>\n",
       "      <th>YOUNG SINGLES/COUPLES</th>\n",
       "      <th>Budget</th>\n",
       "      <td>57122.10</td>\n",
       "      <td>6.663023</td>\n",
       "    </tr>\n",
       "    <tr>\n",
       "      <th>MIDAGE SINGLES/COUPLES</th>\n",
       "      <th>Premium</th>\n",
       "      <td>54443.85</td>\n",
       "      <td>7.152371</td>\n",
       "    </tr>\n",
       "    <tr>\n",
       "      <th>YOUNG SINGLES/COUPLES</th>\n",
       "      <th>Premium</th>\n",
       "      <td>39052.30</td>\n",
       "      <td>6.673325</td>\n",
       "    </tr>\n",
       "    <tr>\n",
       "      <th>MIDAGE SINGLES/COUPLES</th>\n",
       "      <th>Budget</th>\n",
       "      <td>33345.70</td>\n",
       "      <td>7.108442</td>\n",
       "    </tr>\n",
       "    <tr>\n",
       "      <th rowspan=\"3\" valign=\"top\">NEW FAMILIES</th>\n",
       "      <th>Budget</th>\n",
       "      <td>20607.45</td>\n",
       "      <td>7.297256</td>\n",
       "    </tr>\n",
       "    <tr>\n",
       "      <th>Mainstream</th>\n",
       "      <td>15979.70</td>\n",
       "      <td>7.313364</td>\n",
       "    </tr>\n",
       "    <tr>\n",
       "      <th>Premium</th>\n",
       "      <td>10760.80</td>\n",
       "      <td>7.231720</td>\n",
       "    </tr>\n",
       "  </tbody>\n",
       "</table>\n",
       "</div>"
      ],
      "text/plain": [
       "                                               sum      mean\n",
       "LIFESTAGE              PREMIUM_CUSTOMER                     \n",
       "OLDER FAMILIES         Budget            156863.75  7.291241\n",
       "YOUNG SINGLES/COUPLES  Mainstream        147582.20  7.551279\n",
       "RETIREES               Mainstream        145168.95  7.269352\n",
       "YOUNG FAMILIES         Budget            129717.95  7.302705\n",
       "OLDER SINGLES/COUPLES  Budget            127833.60  7.444305\n",
       "                       Mainstream        124648.50  7.306049\n",
       "                       Premium           123537.55  7.459997\n",
       "RETIREES               Budget            105916.30  7.445786\n",
       "OLDER FAMILIES         Mainstream         96413.55  7.281440\n",
       "RETIREES               Premium            91296.65  7.461315\n",
       "YOUNG FAMILIES         Mainstream         86338.25  7.226772\n",
       "MIDAGE SINGLES/COUPLES Mainstream         84734.25  7.637156\n",
       "YOUNG FAMILIES         Premium            78571.70  7.285951\n",
       "OLDER FAMILIES         Premium            75242.60  7.232779\n",
       "YOUNG SINGLES/COUPLES  Budget             57122.10  6.663023\n",
       "MIDAGE SINGLES/COUPLES Premium            54443.85  7.152371\n",
       "YOUNG SINGLES/COUPLES  Premium            39052.30  6.673325\n",
       "MIDAGE SINGLES/COUPLES Budget             33345.70  7.108442\n",
       "NEW FAMILIES           Budget             20607.45  7.297256\n",
       "                       Mainstream         15979.70  7.313364\n",
       "                       Premium            10760.80  7.231720"
      ]
     },
     "execution_count": 37,
     "metadata": {},
     "output_type": "execute_result"
    }
   ],
   "source": [
    "grouped_sales = pd.DataFrame(merged_data.groupby([\"LIFESTAGE\", \"PREMIUM_CUSTOMER\"])[\"TOT_SALES\"].agg([\"sum\", \"mean\"]))\n",
    "grouped_sales.sort_values(ascending=False, by=\"sum\")"
   ]
  },
  {
   "cell_type": "code",
   "execution_count": 38,
   "metadata": {},
   "outputs": [
    {
     "data": {
      "text/plain": [
       "1805177.699999998"
      ]
     },
     "execution_count": 38,
     "metadata": {},
     "output_type": "execute_result"
    }
   ],
   "source": [
    "grouped_sales[\"sum\"].sum()"
   ]
  },
  {
   "cell_type": "code",
   "execution_count": 39,
   "metadata": {},
   "outputs": [
    {
     "data": {
      "text/plain": [
       "<matplotlib.axes._subplots.AxesSubplot at 0x1f4c8e79850>"
      ]
     },
     "execution_count": 39,
     "metadata": {},
     "output_type": "execute_result"
    },
    {
     "data": {
      "image/png": "[encoded data removed]",
      "text/plain": [
       "<Figure size 864x504 with 1 Axes>"
      ]
     },
     "metadata": {
      "needs_background": "light"
     },
     "output_type": "display_data"
    }
   ],
   "source": [
    "grouped_sales[\"sum\"].sort_values().plot.barh(figsize=(12,7))"
   ]
  },
  {
   "cell_type": "code",
   "execution_count": 41,
   "metadata": {},
   "outputs": [
    {
     "name": "stdout",
     "output_type": "stream",
     "text": [
      "Top contributor per LIFESTAGE by PREMIUM category\n",
      "LIFESTAGE\n",
      "NEW FAMILIES                  Budget\n",
      "OLDER FAMILIES                Budget\n",
      "OLDER SINGLES/COUPLES         Budget\n",
      "YOUNG FAMILIES                Budget\n",
      "MIDAGE SINGLES/COUPLES    Mainstream\n",
      "RETIREES                  Mainstream\n",
      "YOUNG SINGLES/COUPLES     Mainstream\n",
      "Name: PREMIUM_CUSTOMER, dtype: object\n"
     ]
    }
   ],
   "source": [
    "stage_agg_prem = merged_data.groupby(\"LIFESTAGE\")[\"PREMIUM_CUSTOMER\"].agg(pd.Series.mode).sort_values()\n",
    "print(\"Top contributor per LIFESTAGE by PREMIUM category\")\n",
    "print(stage_agg_prem)"
   ]
  },
  {
   "cell_type": "code",
   "execution_count": 42,
   "metadata": {},
   "outputs": [
    {
     "data": {
      "text/html": [
       "<div>\n",
       "<style scoped>\n",
       "    .dataframe tbody tr th:only-of-type {\n",
       "        vertical-align: middle;\n",
       "    }\n",
       "\n",
       "    .dataframe tbody tr th {\n",
       "        vertical-align: top;\n",
       "    }\n",
       "\n",
       "    .dataframe thead th {\n",
       "        text-align: right;\n",
       "    }\n",
       "</style>\n",
       "<table border=\"1\" class=\"dataframe\">\n",
       "  <thead>\n",
       "    <tr style=\"text-align: right;\">\n",
       "      <th></th>\n",
       "      <th></th>\n",
       "      <th>LYLTY_CARD_NBR</th>\n",
       "    </tr>\n",
       "    <tr>\n",
       "      <th>LIFESTAGE</th>\n",
       "      <th>PREMIUM_CUSTOMER</th>\n",
       "      <th></th>\n",
       "    </tr>\n",
       "  </thead>\n",
       "  <tbody>\n",
       "    <tr>\n",
       "      <th>YOUNG SINGLES/COUPLES</th>\n",
       "      <th>Mainstream</th>\n",
       "      <td>7917</td>\n",
       "    </tr>\n",
       "    <tr>\n",
       "      <th>RETIREES</th>\n",
       "      <th>Mainstream</th>\n",
       "      <td>6358</td>\n",
       "    </tr>\n",
       "    <tr>\n",
       "      <th rowspan=\"3\" valign=\"top\">OLDER SINGLES/COUPLES</th>\n",
       "      <th>Mainstream</th>\n",
       "      <td>4858</td>\n",
       "    </tr>\n",
       "    <tr>\n",
       "      <th>Budget</th>\n",
       "      <td>4849</td>\n",
       "    </tr>\n",
       "    <tr>\n",
       "      <th>Premium</th>\n",
       "      <td>4682</td>\n",
       "    </tr>\n",
       "    <tr>\n",
       "      <th>OLDER FAMILIES</th>\n",
       "      <th>Budget</th>\n",
       "      <td>4611</td>\n",
       "    </tr>\n",
       "    <tr>\n",
       "      <th>RETIREES</th>\n",
       "      <th>Budget</th>\n",
       "      <td>4385</td>\n",
       "    </tr>\n",
       "    <tr>\n",
       "      <th>YOUNG FAMILIES</th>\n",
       "      <th>Budget</th>\n",
       "      <td>3953</td>\n",
       "    </tr>\n",
       "    <tr>\n",
       "      <th>RETIREES</th>\n",
       "      <th>Premium</th>\n",
       "      <td>3812</td>\n",
       "    </tr>\n",
       "    <tr>\n",
       "      <th>YOUNG SINGLES/COUPLES</th>\n",
       "      <th>Budget</th>\n",
       "      <td>3647</td>\n",
       "    </tr>\n",
       "    <tr>\n",
       "      <th>MIDAGE SINGLES/COUPLES</th>\n",
       "      <th>Mainstream</th>\n",
       "      <td>3298</td>\n",
       "    </tr>\n",
       "    <tr>\n",
       "      <th>OLDER FAMILIES</th>\n",
       "      <th>Mainstream</th>\n",
       "      <td>2788</td>\n",
       "    </tr>\n",
       "    <tr>\n",
       "      <th>YOUNG FAMILIES</th>\n",
       "      <th>Mainstream</th>\n",
       "      <td>2685</td>\n",
       "    </tr>\n",
       "    <tr>\n",
       "      <th>YOUNG SINGLES/COUPLES</th>\n",
       "      <th>Premium</th>\n",
       "      <td>2480</td>\n",
       "    </tr>\n",
       "    <tr>\n",
       "      <th>YOUNG FAMILIES</th>\n",
       "      <th>Premium</th>\n",
       "      <td>2398</td>\n",
       "    </tr>\n",
       "    <tr>\n",
       "      <th>MIDAGE SINGLES/COUPLES</th>\n",
       "      <th>Premium</th>\n",
       "      <td>2369</td>\n",
       "    </tr>\n",
       "    <tr>\n",
       "      <th>OLDER FAMILIES</th>\n",
       "      <th>Premium</th>\n",
       "      <td>2231</td>\n",
       "    </tr>\n",
       "    <tr>\n",
       "      <th>MIDAGE SINGLES/COUPLES</th>\n",
       "      <th>Budget</th>\n",
       "      <td>1474</td>\n",
       "    </tr>\n",
       "    <tr>\n",
       "      <th rowspan=\"3\" valign=\"top\">NEW FAMILIES</th>\n",
       "      <th>Budget</th>\n",
       "      <td>1087</td>\n",
       "    </tr>\n",
       "    <tr>\n",
       "      <th>Mainstream</th>\n",
       "      <td>830</td>\n",
       "    </tr>\n",
       "    <tr>\n",
       "      <th>Premium</th>\n",
       "      <td>575</td>\n",
       "    </tr>\n",
       "  </tbody>\n",
       "</table>\n",
       "</div>"
      ],
      "text/plain": [
       "                                         LYLTY_CARD_NBR\n",
       "LIFESTAGE              PREMIUM_CUSTOMER                \n",
       "YOUNG SINGLES/COUPLES  Mainstream                  7917\n",
       "RETIREES               Mainstream                  6358\n",
       "OLDER SINGLES/COUPLES  Mainstream                  4858\n",
       "                       Budget                      4849\n",
       "                       Premium                     4682\n",
       "OLDER FAMILIES         Budget                      4611\n",
       "RETIREES               Budget                      4385\n",
       "YOUNG FAMILIES         Budget                      3953\n",
       "RETIREES               Premium                     3812\n",
       "YOUNG SINGLES/COUPLES  Budget                      3647\n",
       "MIDAGE SINGLES/COUPLES Mainstream                  3298\n",
       "OLDER FAMILIES         Mainstream                  2788\n",
       "YOUNG FAMILIES         Mainstream                  2685\n",
       "YOUNG SINGLES/COUPLES  Premium                     2480\n",
       "YOUNG FAMILIES         Premium                     2398\n",
       "MIDAGE SINGLES/COUPLES Premium                     2369\n",
       "OLDER FAMILIES         Premium                     2231\n",
       "MIDAGE SINGLES/COUPLES Budget                      1474\n",
       "NEW FAMILIES           Budget                      1087\n",
       "                       Mainstream                   830\n",
       "                       Premium                      575"
      ]
     },
     "execution_count": 42,
     "metadata": {},
     "output_type": "execute_result"
    }
   ],
   "source": [
    "unique_cust = merged_data.groupby([\"LIFESTAGE\", \"PREMIUM_CUSTOMER\"])[\"LYLTY_CARD_NBR\"].nunique().sort_values(ascending=False)\n",
    "pd.DataFrame(unique_cust)"
   ]
  },
  {
   "cell_type": "code",
   "execution_count": 43,
   "metadata": {},
   "outputs": [
    {
     "data": {
      "text/plain": [
       "<matplotlib.axes._subplots.AxesSubplot at 0x1f4c65a3dc0>"
      ]
     },
     "execution_count": 43,
     "metadata": {},
     "output_type": "execute_result"
    },
    {
     "data": {
      "image/png": "[encoded data removed]",
      "text/plain": [
       "<Figure size 864x504 with 1 Axes>"
      ]
     },
     "metadata": {
      "needs_background": "light"
     },
     "output_type": "display_data"
    }
   ],
   "source": [
    "unique_cust.sort_values().plot.barh(figsize=(12,7))"
   ]
  },
  {
   "cell_type": "code",
   "execution_count": 45,
   "metadata": {},
   "outputs": [
    {
     "data": {
      "text/html": [
       "<div>\n",
       "<style scoped>\n",
       "    .dataframe tbody tr th:only-of-type {\n",
       "        vertical-align: middle;\n",
       "    }\n",
       "\n",
       "    .dataframe tbody tr th {\n",
       "        vertical-align: top;\n",
       "    }\n",
       "\n",
       "    .dataframe thead th {\n",
       "        text-align: right;\n",
       "    }\n",
       "</style>\n",
       "<table border=\"1\" class=\"dataframe\">\n",
       "  <thead>\n",
       "    <tr style=\"text-align: right;\">\n",
       "      <th></th>\n",
       "      <th></th>\n",
       "      <th>mean</th>\n",
       "      <th>count</th>\n",
       "    </tr>\n",
       "    <tr>\n",
       "      <th>LIFESTAGE</th>\n",
       "      <th>PREMIUM_CUSTOMER</th>\n",
       "      <th></th>\n",
       "      <th></th>\n",
       "    </tr>\n",
       "  </thead>\n",
       "  <tbody>\n",
       "    <tr>\n",
       "      <th rowspan=\"3\" valign=\"top\">OLDER FAMILIES</th>\n",
       "      <th>Mainstream</th>\n",
       "      <td>4.749283</td>\n",
       "      <td>2788</td>\n",
       "    </tr>\n",
       "    <tr>\n",
       "      <th>Budget</th>\n",
       "      <td>4.665799</td>\n",
       "      <td>4611</td>\n",
       "    </tr>\n",
       "    <tr>\n",
       "      <th>Premium</th>\n",
       "      <td>4.662931</td>\n",
       "      <td>2231</td>\n",
       "    </tr>\n",
       "    <tr>\n",
       "      <th rowspan=\"3\" valign=\"top\">YOUNG FAMILIES</th>\n",
       "      <th>Premium</th>\n",
       "      <td>4.497081</td>\n",
       "      <td>2398</td>\n",
       "    </tr>\n",
       "    <tr>\n",
       "      <th>Budget</th>\n",
       "      <td>4.493549</td>\n",
       "      <td>3953</td>\n",
       "    </tr>\n",
       "    <tr>\n",
       "      <th>Mainstream</th>\n",
       "      <td>4.449534</td>\n",
       "      <td>2685</td>\n",
       "    </tr>\n",
       "    <tr>\n",
       "      <th rowspan=\"3\" valign=\"top\">OLDER SINGLES/COUPLES</th>\n",
       "      <th>Budget</th>\n",
       "      <td>3.541349</td>\n",
       "      <td>4849</td>\n",
       "    </tr>\n",
       "    <tr>\n",
       "      <th>Premium</th>\n",
       "      <td>3.536950</td>\n",
       "      <td>4682</td>\n",
       "    </tr>\n",
       "    <tr>\n",
       "      <th>Mainstream</th>\n",
       "      <td>3.511939</td>\n",
       "      <td>4858</td>\n",
       "    </tr>\n",
       "    <tr>\n",
       "      <th>MIDAGE SINGLES/COUPLES</th>\n",
       "      <th>Mainstream</th>\n",
       "      <td>3.364160</td>\n",
       "      <td>3298</td>\n",
       "    </tr>\n",
       "    <tr>\n",
       "      <th>RETIREES</th>\n",
       "      <th>Budget</th>\n",
       "      <td>3.244014</td>\n",
       "      <td>4385</td>\n",
       "    </tr>\n",
       "    <tr>\n",
       "      <th>MIDAGE SINGLES/COUPLES</th>\n",
       "      <th>Premium</th>\n",
       "      <td>3.213170</td>\n",
       "      <td>2369</td>\n",
       "    </tr>\n",
       "    <tr>\n",
       "      <th>RETIREES</th>\n",
       "      <th>Premium</th>\n",
       "      <td>3.209864</td>\n",
       "      <td>3812</td>\n",
       "    </tr>\n",
       "    <tr>\n",
       "      <th>MIDAGE SINGLES/COUPLES</th>\n",
       "      <th>Budget</th>\n",
       "      <td>3.182497</td>\n",
       "      <td>1474</td>\n",
       "    </tr>\n",
       "    <tr>\n",
       "      <th>RETIREES</th>\n",
       "      <th>Mainstream</th>\n",
       "      <td>3.140925</td>\n",
       "      <td>6358</td>\n",
       "    </tr>\n",
       "    <tr>\n",
       "      <th rowspan=\"3\" valign=\"top\">NEW FAMILIES</th>\n",
       "      <th>Mainstream</th>\n",
       "      <td>2.632530</td>\n",
       "      <td>830</td>\n",
       "    </tr>\n",
       "    <tr>\n",
       "      <th>Budget</th>\n",
       "      <td>2.597976</td>\n",
       "      <td>1087</td>\n",
       "    </tr>\n",
       "    <tr>\n",
       "      <th>Premium</th>\n",
       "      <td>2.587826</td>\n",
       "      <td>575</td>\n",
       "    </tr>\n",
       "    <tr>\n",
       "      <th rowspan=\"3\" valign=\"top\">YOUNG SINGLES/COUPLES</th>\n",
       "      <th>Mainstream</th>\n",
       "      <td>2.468612</td>\n",
       "      <td>7917</td>\n",
       "    </tr>\n",
       "    <tr>\n",
       "      <th>Premium</th>\n",
       "      <td>2.359677</td>\n",
       "      <td>2480</td>\n",
       "    </tr>\n",
       "    <tr>\n",
       "      <th>Budget</th>\n",
       "      <td>2.350699</td>\n",
       "      <td>3647</td>\n",
       "    </tr>\n",
       "  </tbody>\n",
       "</table>\n",
       "</div>"
      ],
      "text/plain": [
       "                                             mean  count\n",
       "LIFESTAGE              PREMIUM_CUSTOMER                 \n",
       "OLDER FAMILIES         Mainstream        4.749283   2788\n",
       "                       Budget            4.665799   4611\n",
       "                       Premium           4.662931   2231\n",
       "YOUNG FAMILIES         Premium           4.497081   2398\n",
       "                       Budget            4.493549   3953\n",
       "                       Mainstream        4.449534   2685\n",
       "OLDER SINGLES/COUPLES  Budget            3.541349   4849\n",
       "                       Premium           3.536950   4682\n",
       "                       Mainstream        3.511939   4858\n",
       "MIDAGE SINGLES/COUPLES Mainstream        3.364160   3298\n",
       "RETIREES               Budget            3.244014   4385\n",
       "MIDAGE SINGLES/COUPLES Premium           3.213170   2369\n",
       "RETIREES               Premium           3.209864   3812\n",
       "MIDAGE SINGLES/COUPLES Budget            3.182497   1474\n",
       "RETIREES               Mainstream        3.140925   6358\n",
       "NEW FAMILIES           Mainstream        2.632530    830\n",
       "                       Budget            2.597976   1087\n",
       "                       Premium           2.587826    575\n",
       "YOUNG SINGLES/COUPLES  Mainstream        2.468612   7917\n",
       "                       Premium           2.359677   2480\n",
       "                       Budget            2.350699   3647"
      ]
     },
     "execution_count": 45,
     "metadata": {},
     "output_type": "execute_result"
    }
   ],
   "source": [
    "freq_per_cust = merged_data.groupby([\"LYLTY_CARD_NBR\", \"LIFESTAGE\", \"PREMIUM_CUSTOMER\"]).count()[\"DATE\"]\n",
    "freq_per_cust.groupby([\"LIFESTAGE\", \"PREMIUM_CUSTOMER\"]).agg([\"mean\", \"count\"]).sort_values(ascending=False, by=\"mean\")"
   ]
  },
  {
   "cell_type": "code",
   "execution_count": 46,
   "metadata": {},
   "outputs": [
    {
     "data": {
      "text/html": [
       "<div>\n",
       "<style scoped>\n",
       "    .dataframe tbody tr th:only-of-type {\n",
       "        vertical-align: middle;\n",
       "    }\n",
       "\n",
       "    .dataframe tbody tr th {\n",
       "        vertical-align: top;\n",
       "    }\n",
       "\n",
       "    .dataframe thead th {\n",
       "        text-align: right;\n",
       "    }\n",
       "</style>\n",
       "<table border=\"1\" class=\"dataframe\">\n",
       "  <thead>\n",
       "    <tr style=\"text-align: right;\">\n",
       "      <th></th>\n",
       "      <th></th>\n",
       "      <th>sum</th>\n",
       "      <th>mean</th>\n",
       "    </tr>\n",
       "    <tr>\n",
       "      <th>LIFESTAGE</th>\n",
       "      <th>PREMIUM_CUSTOMER</th>\n",
       "      <th></th>\n",
       "      <th></th>\n",
       "    </tr>\n",
       "  </thead>\n",
       "  <tbody>\n",
       "    <tr>\n",
       "      <th>MIDAGE SINGLES/COUPLES</th>\n",
       "      <th>Mainstream</th>\n",
       "      <td>84734.25</td>\n",
       "      <td>7.637156</td>\n",
       "    </tr>\n",
       "    <tr>\n",
       "      <th>YOUNG SINGLES/COUPLES</th>\n",
       "      <th>Mainstream</th>\n",
       "      <td>147582.20</td>\n",
       "      <td>7.551279</td>\n",
       "    </tr>\n",
       "    <tr>\n",
       "      <th>RETIREES</th>\n",
       "      <th>Premium</th>\n",
       "      <td>91296.65</td>\n",
       "      <td>7.461315</td>\n",
       "    </tr>\n",
       "    <tr>\n",
       "      <th>OLDER SINGLES/COUPLES</th>\n",
       "      <th>Premium</th>\n",
       "      <td>123537.55</td>\n",
       "      <td>7.459997</td>\n",
       "    </tr>\n",
       "    <tr>\n",
       "      <th>RETIREES</th>\n",
       "      <th>Budget</th>\n",
       "      <td>105916.30</td>\n",
       "      <td>7.445786</td>\n",
       "    </tr>\n",
       "    <tr>\n",
       "      <th>OLDER SINGLES/COUPLES</th>\n",
       "      <th>Budget</th>\n",
       "      <td>127833.60</td>\n",
       "      <td>7.444305</td>\n",
       "    </tr>\n",
       "    <tr>\n",
       "      <th>NEW FAMILIES</th>\n",
       "      <th>Mainstream</th>\n",
       "      <td>15979.70</td>\n",
       "      <td>7.313364</td>\n",
       "    </tr>\n",
       "    <tr>\n",
       "      <th>OLDER SINGLES/COUPLES</th>\n",
       "      <th>Mainstream</th>\n",
       "      <td>124648.50</td>\n",
       "      <td>7.306049</td>\n",
       "    </tr>\n",
       "    <tr>\n",
       "      <th>YOUNG FAMILIES</th>\n",
       "      <th>Budget</th>\n",
       "      <td>129717.95</td>\n",
       "      <td>7.302705</td>\n",
       "    </tr>\n",
       "    <tr>\n",
       "      <th>NEW FAMILIES</th>\n",
       "      <th>Budget</th>\n",
       "      <td>20607.45</td>\n",
       "      <td>7.297256</td>\n",
       "    </tr>\n",
       "    <tr>\n",
       "      <th>OLDER FAMILIES</th>\n",
       "      <th>Budget</th>\n",
       "      <td>156863.75</td>\n",
       "      <td>7.291241</td>\n",
       "    </tr>\n",
       "    <tr>\n",
       "      <th>YOUNG FAMILIES</th>\n",
       "      <th>Premium</th>\n",
       "      <td>78571.70</td>\n",
       "      <td>7.285951</td>\n",
       "    </tr>\n",
       "    <tr>\n",
       "      <th>OLDER FAMILIES</th>\n",
       "      <th>Mainstream</th>\n",
       "      <td>96413.55</td>\n",
       "      <td>7.281440</td>\n",
       "    </tr>\n",
       "    <tr>\n",
       "      <th>RETIREES</th>\n",
       "      <th>Mainstream</th>\n",
       "      <td>145168.95</td>\n",
       "      <td>7.269352</td>\n",
       "    </tr>\n",
       "    <tr>\n",
       "      <th>OLDER FAMILIES</th>\n",
       "      <th>Premium</th>\n",
       "      <td>75242.60</td>\n",
       "      <td>7.232779</td>\n",
       "    </tr>\n",
       "    <tr>\n",
       "      <th>NEW FAMILIES</th>\n",
       "      <th>Premium</th>\n",
       "      <td>10760.80</td>\n",
       "      <td>7.231720</td>\n",
       "    </tr>\n",
       "    <tr>\n",
       "      <th>YOUNG FAMILIES</th>\n",
       "      <th>Mainstream</th>\n",
       "      <td>86338.25</td>\n",
       "      <td>7.226772</td>\n",
       "    </tr>\n",
       "    <tr>\n",
       "      <th rowspan=\"2\" valign=\"top\">MIDAGE SINGLES/COUPLES</th>\n",
       "      <th>Premium</th>\n",
       "      <td>54443.85</td>\n",
       "      <td>7.152371</td>\n",
       "    </tr>\n",
       "    <tr>\n",
       "      <th>Budget</th>\n",
       "      <td>33345.70</td>\n",
       "      <td>7.108442</td>\n",
       "    </tr>\n",
       "    <tr>\n",
       "      <th rowspan=\"2\" valign=\"top\">YOUNG SINGLES/COUPLES</th>\n",
       "      <th>Premium</th>\n",
       "      <td>39052.30</td>\n",
       "      <td>6.673325</td>\n",
       "    </tr>\n",
       "    <tr>\n",
       "      <th>Budget</th>\n",
       "      <td>57122.10</td>\n",
       "      <td>6.663023</td>\n",
       "    </tr>\n",
       "  </tbody>\n",
       "</table>\n",
       "</div>"
      ],
      "text/plain": [
       "                                               sum      mean\n",
       "LIFESTAGE              PREMIUM_CUSTOMER                     \n",
       "MIDAGE SINGLES/COUPLES Mainstream         84734.25  7.637156\n",
       "YOUNG SINGLES/COUPLES  Mainstream        147582.20  7.551279\n",
       "RETIREES               Premium            91296.65  7.461315\n",
       "OLDER SINGLES/COUPLES  Premium           123537.55  7.459997\n",
       "RETIREES               Budget            105916.30  7.445786\n",
       "OLDER SINGLES/COUPLES  Budget            127833.60  7.444305\n",
       "NEW FAMILIES           Mainstream         15979.70  7.313364\n",
       "OLDER SINGLES/COUPLES  Mainstream        124648.50  7.306049\n",
       "YOUNG FAMILIES         Budget            129717.95  7.302705\n",
       "NEW FAMILIES           Budget             20607.45  7.297256\n",
       "OLDER FAMILIES         Budget            156863.75  7.291241\n",
       "YOUNG FAMILIES         Premium            78571.70  7.285951\n",
       "OLDER FAMILIES         Mainstream         96413.55  7.281440\n",
       "RETIREES               Mainstream        145168.95  7.269352\n",
       "OLDER FAMILIES         Premium            75242.60  7.232779\n",
       "NEW FAMILIES           Premium            10760.80  7.231720\n",
       "YOUNG FAMILIES         Mainstream         86338.25  7.226772\n",
       "MIDAGE SINGLES/COUPLES Premium            54443.85  7.152371\n",
       "                       Budget             33345.70  7.108442\n",
       "YOUNG SINGLES/COUPLES  Premium            39052.30  6.673325\n",
       "                       Budget             57122.10  6.663023"
      ]
     },
     "execution_count": 46,
     "metadata": {},
     "output_type": "execute_result"
    }
   ],
   "source": [
    "grouped_sales.sort_values(ascending=False, by=\"mean\")"
   ]
  },
  {
   "cell_type": "code",
   "execution_count": 47,
   "metadata": {},
   "outputs": [],
   "source": [
    "from scipy.stats import ttest_ind"
   ]
  },
  {
   "cell_type": "code",
   "execution_count": 48,
   "metadata": {},
   "outputs": [
    {
     "name": "stdout",
     "output_type": "stream",
     "text": [
      "1.8346459081778177e-237\n"
     ]
    },
    {
     "data": {
      "text/plain": [
       "True"
      ]
     },
     "execution_count": 48,
     "metadata": {},
     "output_type": "execute_result"
    }
   ],
   "source": [
    "mainstream = merged_data[\"PREMIUM_CUSTOMER\"] == \"Mainstream\"\n",
    "young_midage = (merged_data[\"LIFESTAGE\"] == \"MIDAGE SINGLES/COUPLES\") | (merged_data[\"LIFESTAGE\"] == \"YOUNG SINGLES/COUPLES\")\n",
    "\n",
    "budget_premium = (merged_data[\"PREMIUM_CUSTOMER\"] == \"Budget\") | (merged_data[\"PREMIUM_CUSTOMER\"] == \"Premium\")\n",
    "\n",
    "a = merged_data[young_midage & mainstream][\"TOT_SALES\"]\n",
    "b = merged_data[young_midage & budget_premium][\"TOT_SALES\"]\n",
    "stat, pval = ttest_ind(a.values, b.values, equal_var=False)\n",
    "\n",
    "print(pval)\n",
    "pval < 0.0000001"
   ]
  },
  {
   "cell_type": "code",
   "execution_count": 49,
   "metadata": {},
   "outputs": [
    {
     "data": {
      "text/plain": [
       "LIFESTAGE               PREMIUM_CUSTOMER\n",
       "MIDAGE SINGLES/COUPLES  Budget              Kettle\n",
       "YOUNG SINGLES/COUPLES   Budget              Kettle\n",
       "YOUNG FAMILIES          Premium             Kettle\n",
       "                        Mainstream          Kettle\n",
       "                        Budget              Kettle\n",
       "RETIREES                Premium             Kettle\n",
       "                        Mainstream          Kettle\n",
       "                        Budget              Kettle\n",
       "OLDER SINGLES/COUPLES   Premium             Kettle\n",
       "YOUNG SINGLES/COUPLES   Mainstream          Kettle\n",
       "OLDER SINGLES/COUPLES   Mainstream          Kettle\n",
       "OLDER FAMILIES          Premium             Kettle\n",
       "                        Mainstream          Kettle\n",
       "                        Budget              Kettle\n",
       "NEW FAMILIES            Premium             Kettle\n",
       "                        Mainstream          Kettle\n",
       "                        Budget              Kettle\n",
       "MIDAGE SINGLES/COUPLES  Premium             Kettle\n",
       "                        Mainstream          Kettle\n",
       "OLDER SINGLES/COUPLES   Budget              Kettle\n",
       "YOUNG SINGLES/COUPLES   Premium             Kettle\n",
       "Name: Cleaned_Brand_Names, dtype: object"
      ]
     },
     "execution_count": 49,
     "metadata": {},
     "output_type": "execute_result"
    }
   ],
   "source": [
    "merged_data.groupby([\"LIFESTAGE\", \"PREMIUM_CUSTOMER\"])[\"Cleaned_Brand_Names\"].agg(pd.Series.mode).sort_values()"
   ]
  },
  {
   "cell_type": "code",
   "execution_count": 50,
   "metadata": {},
   "outputs": [
    {
     "name": "stdout",
     "output_type": "stream",
     "text": [
      "========== YOUNG SINGLES/COUPLES - Premium ==========\n",
      "Kettle      838\n",
      "Smiths      787\n",
      "Pringles    537\n",
      "Name: Cleaned_Brand_Names, dtype: int64\n"
     ]
    },
    {
     "data": {
      "image/png": "[encoded data removed]",
      "text/plain": [
       "<Figure size 360x72 with 1 Axes>"
      ]
     },
     "metadata": {
      "needs_background": "light"
     },
     "output_type": "display_data"
    },
    {
     "name": "stdout",
     "output_type": "stream",
     "text": [
      "========== YOUNG SINGLES/COUPLES - Mainstream ==========\n",
      "Kettle      3844\n",
      "Doritos     2379\n",
      "Pringles    2315\n",
      "Name: Cleaned_Brand_Names, dtype: int64\n"
     ]
    },
    {
     "data": {
      "image/png": "[encoded data removed]",
      "text/plain": [
       "<Figure size 360x72 with 1 Axes>"
      ]
     },
     "metadata": {
      "needs_background": "light"
     },
     "output_type": "display_data"
    },
    {
     "name": "stdout",
     "output_type": "stream",
     "text": [
      "========== YOUNG SINGLES/COUPLES - Budget ==========\n",
      "Kettle      1211\n",
      "Smiths      1185\n",
      "Pringles     832\n",
      "Name: Cleaned_Brand_Names, dtype: int64\n"
     ]
    },
    {
     "data": {
      "image/png": "[encoded data removed]",
      "text/plain": [
       "<Figure size 360x72 with 1 Axes>"
      ]
     },
     "metadata": {
      "needs_background": "light"
     },
     "output_type": "display_data"
    },
    {
     "name": "stdout",
     "output_type": "stream",
     "text": [
      "========== YOUNG FAMILIES - Premium ==========\n",
      "Kettle      1745\n",
      "Smiths      1384\n",
      "Pringles    1007\n",
      "Name: Cleaned_Brand_Names, dtype: int64\n"
     ]
    },
    {
     "data": {
      "image/png": "[encoded data removed]",
      "text/plain": [
       "<Figure size 360x72 with 1 Axes>"
      ]
     },
     "metadata": {
      "needs_background": "light"
     },
     "output_type": "display_data"
    },
    {
     "name": "stdout",
     "output_type": "stream",
     "text": [
      "========== YOUNG FAMILIES - Mainstream ==========\n",
      "Kettle      1789\n",
      "Smiths      1681\n",
      "Pringles    1148\n",
      "Name: Cleaned_Brand_Names, dtype: int64\n"
     ]
    },
    {
     "data": {
      "image/png": "[encoded data removed]",
      "text/plain": [
       "<Figure size 360x72 with 1 Axes>"
      ]
     },
     "metadata": {
      "needs_background": "light"
     },
     "output_type": "display_data"
    },
    {
     "name": "stdout",
     "output_type": "stream",
     "text": [
      "========== YOUNG FAMILIES - Budget ==========\n",
      "Kettle     2743\n",
      "Smiths     2334\n",
      "Doritos    1767\n",
      "Name: Cleaned_Brand_Names, dtype: int64\n"
     ]
    },
    {
     "data": {
      "image/png": "[encoded data removed]",
      "text/plain": [
       "<Figure size 360x72 with 1 Axes>"
      ]
     },
     "metadata": {
      "needs_background": "light"
     },
     "output_type": "display_data"
    },
    {
     "name": "stdout",
     "output_type": "stream",
     "text": [
      "========== OLDER SINGLES/COUPLES - Premium ==========\n",
      "Kettle     2947\n",
      "Smiths     1952\n",
      "Doritos    1784\n",
      "Name: Cleaned_Brand_Names, dtype: int64\n"
     ]
    },
    {
     "data": {
      "image/png": "[encoded data removed]",
      "text/plain": [
       "<Figure size 360x72 with 1 Axes>"
      ]
     },
     "metadata": {
      "needs_background": "light"
     },
     "output_type": "display_data"
    },
    {
     "name": "stdout",
     "output_type": "stream",
     "text": [
      "========== OLDER SINGLES/COUPLES - Mainstream ==========\n",
      "Kettle     2835\n",
      "Smiths     2070\n",
      "Doritos    1791\n",
      "Name: Cleaned_Brand_Names, dtype: int64\n"
     ]
    },
    {
     "data": {
      "image/png": "[encoded data removed]",
      "text/plain": [
       "<Figure size 360x72 with 1 Axes>"
      ]
     },
     "metadata": {
      "needs_background": "light"
     },
     "output_type": "display_data"
    },
    {
     "name": "stdout",
     "output_type": "stream",
     "text": [
      "========== OLDER SINGLES/COUPLES - Budget ==========\n",
      "Kettle      3065\n",
      "Smiths      2010\n",
      "Pringles    1843\n",
      "Name: Cleaned_Brand_Names, dtype: int64\n"
     ]
    },
    {
     "data": {
      "image/png": "[encoded data removed]",
      "text/plain": [
       "<Figure size 360x72 with 1 Axes>"
      ]
     },
     "metadata": {
      "needs_background": "light"
     },
     "output_type": "display_data"
    },
    {
     "name": "stdout",
     "output_type": "stream",
     "text": [
      "========== MIDAGE SINGLES/COUPLES - Premium ==========\n",
      "Kettle      1206\n",
      "Smiths       923\n",
      "Pringles     781\n",
      "Name: Cleaned_Brand_Names, dtype: int64\n"
     ]
    },
    {
     "data": {
      "image/png": "[encoded data removed]",
      "text/plain": [
       "<Figure size 360x72 with 1 Axes>"
      ]
     },
     "metadata": {
      "needs_background": "light"
     },
     "output_type": "display_data"
    },
    {
     "name": "stdout",
     "output_type": "stream",
     "text": [
      "========== MIDAGE SINGLES/COUPLES - Mainstream ==========\n",
      "Kettle     2136\n",
      "Smiths     1276\n",
      "Doritos    1210\n",
      "Name: Cleaned_Brand_Names, dtype: int64\n"
     ]
    },
    {
     "data": {
      "image/png": "[encoded data removed]",
      "text/plain": [
       "<Figure size 360x72 with 1 Axes>"
      ]
     },
     "metadata": {
      "needs_background": "light"
     },
     "output_type": "display_data"
    },
    {
     "name": "stdout",
     "output_type": "stream",
     "text": [
      "========== MIDAGE SINGLES/COUPLES - Budget ==========\n",
      "Kettle     713\n",
      "Smiths     591\n",
      "Doritos    479\n",
      "Name: Cleaned_Brand_Names, dtype: int64\n"
     ]
    },
    {
     "data": {
      "image/png": "[encoded data removed]",
      "text/plain": [
       "<Figure size 360x72 with 1 Axes>"
      ]
     },
     "metadata": {
      "needs_background": "light"
     },
     "output_type": "display_data"
    },
    {
     "name": "stdout",
     "output_type": "stream",
     "text": [
      "========== NEW FAMILIES - Premium ==========\n",
      "Kettle      247\n",
      "Pringles    165\n",
      "Smiths      155\n",
      "Name: Cleaned_Brand_Names, dtype: int64\n"
     ]
    },
    {
     "data": {
      "image/png": "[encoded data removed]",
      "text/plain": [
       "<Figure size 360x72 with 1 Axes>"
      ]
     },
     "metadata": {
      "needs_background": "light"
     },
     "output_type": "display_data"
    },
    {
     "name": "stdout",
     "output_type": "stream",
     "text": [
      "========== NEW FAMILIES - Mainstream ==========\n",
      "Kettle     414\n",
      "Doritos    257\n",
      "Smiths     244\n",
      "Name: Cleaned_Brand_Names, dtype: int64\n"
     ]
    },
    {
     "data": {
      "image/png": "[encoded data removed]",
      "text/plain": [
       "<Figure size 360x72 with 1 Axes>"
      ]
     },
     "metadata": {
      "needs_background": "light"
     },
     "output_type": "display_data"
    },
    {
     "name": "stdout",
     "output_type": "stream",
     "text": [
      "========== NEW FAMILIES - Budget ==========\n",
      "Kettle     510\n",
      "Smiths     328\n",
      "Doritos    315\n",
      "Name: Cleaned_Brand_Names, dtype: int64\n"
     ]
    },
    {
     "data": {
      "image/png": "[encoded data removed]",
      "text/plain": [
       "<Figure size 360x72 with 1 Axes>"
      ]
     },
     "metadata": {
      "needs_background": "light"
     },
     "output_type": "display_data"
    },
    {
     "name": "stdout",
     "output_type": "stream",
     "text": [
      "========== OLDER FAMILIES - Premium ==========\n",
      "Kettle      1512\n",
      "Smiths      1448\n",
      "Pringles    1014\n",
      "Name: Cleaned_Brand_Names, dtype: int64\n"
     ]
    },
    {
     "data": {
      "image/png": "[encoded data removed]",
      "text/plain": [
       "<Figure size 360x72 with 1 Axes>"
      ]
     },
     "metadata": {
      "needs_background": "light"
     },
     "output_type": "display_data"
    },
    {
     "name": "stdout",
     "output_type": "stream",
     "text": [
      "========== OLDER FAMILIES - Mainstream ==========\n",
      "Kettle     2019\n",
      "Smiths     1742\n",
      "Doritos    1263\n",
      "Name: Cleaned_Brand_Names, dtype: int64\n"
     ]
    },
    {
     "data": {
      "image/png": "[encoded data removed]",
      "text/plain": [
       "<Figure size 360x72 with 1 Axes>"
      ]
     },
     "metadata": {
      "needs_background": "light"
     },
     "output_type": "display_data"
    },
    {
     "name": "stdout",
     "output_type": "stream",
     "text": [
      "========== OLDER FAMILIES - Budget ==========\n",
      "Kettle     3320\n",
      "Smiths     2948\n",
      "Doritos    2032\n",
      "Name: Cleaned_Brand_Names, dtype: int64\n"
     ]
    },
    {
     "data": {
      "image/png": "[encoded data removed]",
      "text/plain": [
       "<Figure size 360x72 with 1 Axes>"
      ]
     },
     "metadata": {
      "needs_background": "light"
     },
     "output_type": "display_data"
    },
    {
     "name": "stdout",
     "output_type": "stream",
     "text": [
      "========== RETIREES - Premium ==========\n",
      "Kettle      2216\n",
      "Smiths      1395\n",
      "Pringles    1331\n",
      "Name: Cleaned_Brand_Names, dtype: int64\n"
     ]
    },
    {
     "data": {
      "image/png": "[encoded data removed]",
      "text/plain": [
       "<Figure size 360x72 with 1 Axes>"
      ]
     },
     "metadata": {
      "needs_background": "light"
     },
     "output_type": "display_data"
    },
    {
     "name": "stdout",
     "output_type": "stream",
     "text": [
      "========== RETIREES - Mainstream ==========\n",
      "Kettle      3386\n",
      "Smiths      2367\n",
      "Pringles    2103\n",
      "Name: Cleaned_Brand_Names, dtype: int64\n"
     ]
    },
    {
     "data": {
      "image/png": "[encoded data removed]",
      "text/plain": [
       "<Figure size 360x72 with 1 Axes>"
      ]
     },
     "metadata": {
      "needs_background": "light"
     },
     "output_type": "display_data"
    },
    {
     "name": "stdout",
     "output_type": "stream",
     "text": [
      "========== RETIREES - Budget ==========\n",
      "Kettle     2592\n",
      "Smiths     1612\n",
      "Doritos    1592\n",
      "Name: Cleaned_Brand_Names, dtype: int64\n"
     ]
    },
    {
     "data": {
      "image/png": "[encoded data removed]",
      "text/plain": [
       "<Figure size 360x72 with 1 Axes>"
      ]
     },
     "metadata": {
      "needs_background": "light"
     },
     "output_type": "display_data"
    }
   ],
   "source": [
    "for stage in merged_data[\"LIFESTAGE\"].unique():\n",
    "    for prem in merged_data[\"PREMIUM_CUSTOMER\"].unique():\n",
    "        print('==========',stage, '-', prem,'==========')\n",
    "        summary = merged_data[(merged_data[\"LIFESTAGE\"] == stage) & (merged_data[\"PREMIUM_CUSTOMER\"] == prem)][\"Cleaned_Brand_Names\"].value_counts().head(3)\n",
    "        print(summary)\n",
    "        plt.figure()\n",
    "        summary.plot.barh(figsize=(5,1))\n",
    "        plt.show()"
   ]
  },
  {
   "cell_type": "code",
   "execution_count": 52,
   "metadata": {},
   "outputs": [
    {
     "name": "stdout",
     "output_type": "stream",
     "text": [
      "Collecting mlxtend\n",
      "  Downloading mlxtend-0.18.0-py2.py3-none-any.whl (1.3 MB)\n",
      "Requirement already satisfied: matplotlib>=3.0.0 in c:\\users\\simmu\\anaconda3\\lib\\site-packages (from mlxtend) (3.2.2)\n",
      "Requirement already satisfied: scikit-learn>=0.20.3 in c:\\users\\simmu\\anaconda3\\lib\\site-packages (from mlxtend) (0.23.1)\n",
      "Requirement already satisfied: scipy>=1.2.1 in c:\\users\\simmu\\anaconda3\\lib\\site-packages (from mlxtend) (1.5.0)\n",
      "Requirement already satisfied: numpy>=1.16.2 in c:\\users\\simmu\\anaconda3\\lib\\site-packages (from mlxtend) (1.19.5)\n",
      "Requirement already satisfied: pandas>=0.24.2 in c:\\users\\simmu\\anaconda3\\lib\\site-packages (from mlxtend) (1.0.5)\n",
      "Requirement already satisfied: setuptools in c:\\users\\simmu\\anaconda3\\lib\\site-packages (from mlxtend) (49.2.0.post20200714)\n",
      "Requirement already satisfied: joblib>=0.13.2 in c:\\users\\simmu\\anaconda3\\lib\\site-packages (from mlxtend) (0.16.0)\n",
      "Requirement already satisfied: cycler>=0.10 in c:\\users\\simmu\\anaconda3\\lib\\site-packages (from matplotlib>=3.0.0->mlxtend) (0.10.0)\n",
      "Requirement already satisfied: pyparsing!=2.0.4,!=2.1.2,!=2.1.6,>=2.0.1 in c:\\users\\simmu\\anaconda3\\lib\\site-packages (from matplotlib>=3.0.0->mlxtend) (2.4.7)\n",
      "Requirement already satisfied: kiwisolver>=1.0.1 in c:\\users\\simmu\\anaconda3\\lib\\site-packages (from matplotlib>=3.0.0->mlxtend) (1.2.0)\n",
      "Requirement already satisfied: python-dateutil>=2.1 in c:\\users\\simmu\\anaconda3\\lib\\site-packages (from matplotlib>=3.0.0->mlxtend) (2.8.1)\n",
      "Requirement already satisfied: threadpoolctl>=2.0.0 in c:\\users\\simmu\\anaconda3\\lib\\site-packages (from scikit-learn>=0.20.3->mlxtend) (2.1.0)\n",
      "Requirement already satisfied: pytz>=2017.2 in c:\\users\\simmu\\anaconda3\\lib\\site-packages (from pandas>=0.24.2->mlxtend) (2020.1)\n",
      "Requirement already satisfied: six in c:\\users\\simmu\\anaconda3\\lib\\site-packages (from cycler>=0.10->matplotlib>=3.0.0->mlxtend) (1.15.0)\n",
      "Installing collected packages: mlxtend\n",
      "Successfully installed mlxtend-0.18.0\n"
     ]
    }
   ],
   "source": [
    "!pip install mlxtend\n",
    "from mlxtend.frequent_patterns import apriori\n",
    "from mlxtend.frequent_patterns import association_rules"
   ]
  },
  {
   "cell_type": "code",
   "execution_count": 53,
   "metadata": {},
   "outputs": [],
   "source": [
    "temp = merged_data.reset_index().rename(columns = {\"index\": \"transaction\"})\n",
    "temp[\"Segment\"] = temp[\"LIFESTAGE\"] + ' - ' + temp['PREMIUM_CUSTOMER']\n",
    "segment_brand_encode = pd.concat([pd.get_dummies(temp[\"Segment\"]), pd.get_dummies(temp[\"Cleaned_Brand_Names\"])], axis=1)"
   ]
  },
  {
   "cell_type": "code",
   "execution_count": 54,
   "metadata": {},
   "outputs": [],
   "source": [
    "frequent_sets = apriori(segment_brand_encode, min_support=0.01, use_colnames=True)\n",
    "rules = association_rules(frequent_sets, metric=\"lift\", min_threshold=1)"
   ]
  },
  {
   "cell_type": "code",
   "execution_count": 55,
   "metadata": {},
   "outputs": [
    {
     "data": {
      "text/html": [
       "<div>\n",
       "<style scoped>\n",
       "    .dataframe tbody tr th:only-of-type {\n",
       "        vertical-align: middle;\n",
       "    }\n",
       "\n",
       "    .dataframe tbody tr th {\n",
       "        vertical-align: top;\n",
       "    }\n",
       "\n",
       "    .dataframe thead th {\n",
       "        text-align: right;\n",
       "    }\n",
       "</style>\n",
       "<table border=\"1\" class=\"dataframe\">\n",
       "  <thead>\n",
       "    <tr style=\"text-align: right;\">\n",
       "      <th></th>\n",
       "      <th>antecedents</th>\n",
       "      <th>consequents</th>\n",
       "      <th>antecedent support</th>\n",
       "      <th>consequent support</th>\n",
       "      <th>support</th>\n",
       "      <th>confidence</th>\n",
       "      <th>lift</th>\n",
       "      <th>leverage</th>\n",
       "      <th>conviction</th>\n",
       "    </tr>\n",
       "  </thead>\n",
       "  <tbody>\n",
       "    <tr>\n",
       "      <th>1</th>\n",
       "      <td>(OLDER FAMILIES - Budget)</td>\n",
       "      <td>(Smiths)</td>\n",
       "      <td>0.087193</td>\n",
       "      <td>0.123016</td>\n",
       "      <td>0.011948</td>\n",
       "      <td>0.137027</td>\n",
       "      <td>1.113895</td>\n",
       "      <td>0.001222</td>\n",
       "      <td>1.016236</td>\n",
       "    </tr>\n",
       "    <tr>\n",
       "      <th>2</th>\n",
       "      <td>(OLDER SINGLES/COUPLES - Budget)</td>\n",
       "      <td>(Kettle)</td>\n",
       "      <td>0.069596</td>\n",
       "      <td>0.167334</td>\n",
       "      <td>0.012422</td>\n",
       "      <td>0.178488</td>\n",
       "      <td>1.066658</td>\n",
       "      <td>0.000776</td>\n",
       "      <td>1.013578</td>\n",
       "    </tr>\n",
       "    <tr>\n",
       "      <th>4</th>\n",
       "      <td>(OLDER SINGLES/COUPLES - Premium)</td>\n",
       "      <td>(Kettle)</td>\n",
       "      <td>0.067115</td>\n",
       "      <td>0.167334</td>\n",
       "      <td>0.011944</td>\n",
       "      <td>0.177959</td>\n",
       "      <td>1.063495</td>\n",
       "      <td>0.000713</td>\n",
       "      <td>1.012925</td>\n",
       "    </tr>\n",
       "    <tr>\n",
       "      <th>6</th>\n",
       "      <td>(RETIREES - Budget)</td>\n",
       "      <td>(Kettle)</td>\n",
       "      <td>0.057652</td>\n",
       "      <td>0.167334</td>\n",
       "      <td>0.010505</td>\n",
       "      <td>0.182214</td>\n",
       "      <td>1.088926</td>\n",
       "      <td>0.000858</td>\n",
       "      <td>1.018196</td>\n",
       "    </tr>\n",
       "    <tr>\n",
       "      <th>9</th>\n",
       "      <td>(RETIREES - Mainstream)</td>\n",
       "      <td>(Kettle)</td>\n",
       "      <td>0.080935</td>\n",
       "      <td>0.167334</td>\n",
       "      <td>0.013723</td>\n",
       "      <td>0.169554</td>\n",
       "      <td>1.013269</td>\n",
       "      <td>0.000180</td>\n",
       "      <td>1.002674</td>\n",
       "    </tr>\n",
       "    <tr>\n",
       "      <th>10</th>\n",
       "      <td>(YOUNG SINGLES/COUPLES - Mainstream)</td>\n",
       "      <td>(Kettle)</td>\n",
       "      <td>0.079209</td>\n",
       "      <td>0.167334</td>\n",
       "      <td>0.015579</td>\n",
       "      <td>0.196684</td>\n",
       "      <td>1.175400</td>\n",
       "      <td>0.002325</td>\n",
       "      <td>1.036537</td>\n",
       "    </tr>\n",
       "  </tbody>\n",
       "</table>\n",
       "</div>"
      ],
      "text/plain": [
       "                             antecedents consequents  antecedent support  \\\n",
       "1              (OLDER FAMILIES - Budget)    (Smiths)            0.087193   \n",
       "2       (OLDER SINGLES/COUPLES - Budget)    (Kettle)            0.069596   \n",
       "4      (OLDER SINGLES/COUPLES - Premium)    (Kettle)            0.067115   \n",
       "6                    (RETIREES - Budget)    (Kettle)            0.057652   \n",
       "9                (RETIREES - Mainstream)    (Kettle)            0.080935   \n",
       "10  (YOUNG SINGLES/COUPLES - Mainstream)    (Kettle)            0.079209   \n",
       "\n",
       "    consequent support   support  confidence      lift  leverage  conviction  \n",
       "1             0.123016  0.011948    0.137027  1.113895  0.001222    1.016236  \n",
       "2             0.167334  0.012422    0.178488  1.066658  0.000776    1.013578  \n",
       "4             0.167334  0.011944    0.177959  1.063495  0.000713    1.012925  \n",
       "6             0.167334  0.010505    0.182214  1.088926  0.000858    1.018196  \n",
       "9             0.167334  0.013723    0.169554  1.013269  0.000180    1.002674  \n",
       "10            0.167334  0.015579    0.196684  1.175400  0.002325    1.036537  "
      ]
     },
     "execution_count": 55,
     "metadata": {},
     "output_type": "execute_result"
    }
   ],
   "source": [
    "set_temp = temp[\"Segment\"].unique()\n",
    "rules[rules[\"antecedents\"].apply(lambda x: list(x)).apply(lambda x: x in set_temp)]"
   ]
  },
  {
   "cell_type": "code",
   "execution_count": 56,
   "metadata": {},
   "outputs": [
    {
     "name": "stdout",
     "output_type": "stream",
     "text": [
      "========== YOUNG SINGLES/COUPLES - Premium ==========\n",
      "134.0     537\n",
      "150.0     896\n",
      "175.0    1587\n",
      "Name: Pack_Size, dtype: int64\n"
     ]
    },
    {
     "data": {
      "image/png": "[encoded data removed]",
      "text/plain": [
       "<Figure size 360x72 with 1 Axes>"
      ]
     },
     "metadata": {
      "needs_background": "light"
     },
     "output_type": "display_data"
    },
    {
     "name": "stdout",
     "output_type": "stream",
     "text": [
      "========== YOUNG SINGLES/COUPLES - Mainstream ==========\n",
      "134.0    2315\n",
      "150.0    2998\n",
      "175.0    4928\n",
      "Name: Pack_Size, dtype: int64\n"
     ]
    },
    {
     "data": {
      "image/png": "[encoded data removed]",
      "text/plain": [
       "<Figure size 360x72 with 1 Axes>"
      ]
     },
     "metadata": {
      "needs_background": "light"
     },
     "output_type": "display_data"
    },
    {
     "name": "stdout",
     "output_type": "stream",
     "text": [
      "========== YOUNG SINGLES/COUPLES - Budget ==========\n",
      "134.0     832\n",
      "150.0    1325\n",
      "175.0    2262\n",
      "Name: Pack_Size, dtype: int64\n"
     ]
    },
    {
     "data": {
      "image/png": "[encoded data removed]",
      "text/plain": [
       "<Figure size 360x72 with 1 Axes>"
      ]
     },
     "metadata": {
      "needs_background": "light"
     },
     "output_type": "display_data"
    },
    {
     "name": "stdout",
     "output_type": "stream",
     "text": [
      "========== YOUNG FAMILIES - Premium ==========\n",
      "134.0    1007\n",
      "150.0    1697\n",
      "175.0    2926\n",
      "Name: Pack_Size, dtype: int64\n"
     ]
    },
    {
     "data": {
      "image/png": "[encoded data removed]",
      "text/plain": [
       "<Figure size 360x72 with 1 Axes>"
      ]
     },
     "metadata": {
      "needs_background": "light"
     },
     "output_type": "display_data"
    },
    {
     "name": "stdout",
     "output_type": "stream",
     "text": [
      "========== YOUNG FAMILIES - Mainstream ==========\n",
      "134.0    1148\n",
      "150.0    1927\n",
      "175.0    3087\n",
      "Name: Pack_Size, dtype: int64\n"
     ]
    },
    {
     "data": {
      "image/png": "[encoded data removed]",
      "text/plain": [
       "<Figure size 360x72 with 1 Axes>"
      ]
     },
     "metadata": {
      "needs_background": "light"
     },
     "output_type": "display_data"
    },
    {
     "name": "stdout",
     "output_type": "stream",
     "text": [
      "========== YOUNG FAMILIES - Budget ==========\n",
      "134.0    1674\n",
      "150.0    2749\n",
      "175.0    4800\n",
      "Name: Pack_Size, dtype: int64\n"
     ]
    },
    {
     "data": {
      "image/png": "[encoded data removed]",
      "text/plain": [
       "<Figure size 360x72 with 1 Axes>"
      ]
     },
     "metadata": {
      "needs_background": "light"
     },
     "output_type": "display_data"
    },
    {
     "name": "stdout",
     "output_type": "stream",
     "text": [
      "========== OLDER SINGLES/COUPLES - Premium ==========\n",
      "134.0    1744\n",
      "150.0    2672\n",
      "175.0    4382\n",
      "Name: Pack_Size, dtype: int64\n"
     ]
    },
    {
     "data": {
      "image/png": "[encoded data removed]",
      "text/plain": [
       "<Figure size 360x72 with 1 Axes>"
      ]
     },
     "metadata": {
      "needs_background": "light"
     },
     "output_type": "display_data"
    },
    {
     "name": "stdout",
     "output_type": "stream",
     "text": [
      "========== OLDER SINGLES/COUPLES - Mainstream ==========\n",
      "134.0    1720\n",
      "150.0    2660\n",
      "175.0    4422\n",
      "Name: Pack_Size, dtype: int64\n"
     ]
    },
    {
     "data": {
      "image/png": "[encoded data removed]",
      "text/plain": [
       "<Figure size 360x72 with 1 Axes>"
      ]
     },
     "metadata": {
      "needs_background": "light"
     },
     "output_type": "display_data"
    },
    {
     "name": "stdout",
     "output_type": "stream",
     "text": [
      "========== OLDER SINGLES/COUPLES - Budget ==========\n",
      "134.0    1843\n",
      "150.0    2726\n",
      "175.0    4535\n",
      "Name: Pack_Size, dtype: int64\n"
     ]
    },
    {
     "data": {
      "image/png": "[encoded data removed]",
      "text/plain": [
       "<Figure size 360x72 with 1 Axes>"
      ]
     },
     "metadata": {
      "needs_background": "light"
     },
     "output_type": "display_data"
    },
    {
     "name": "stdout",
     "output_type": "stream",
     "text": [
      "========== MIDAGE SINGLES/COUPLES - Premium ==========\n",
      "134.0     781\n",
      "150.0    1163\n",
      "175.0    2034\n",
      "Name: Pack_Size, dtype: int64\n"
     ]
    },
    {
     "data": {
      "image/png": "[encoded data removed]",
      "text/plain": [
       "<Figure size 360x72 with 1 Axes>"
      ]
     },
     "metadata": {
      "needs_background": "light"
     },
     "output_type": "display_data"
    },
    {
     "name": "stdout",
     "output_type": "stream",
     "text": [
      "========== MIDAGE SINGLES/COUPLES - Mainstream ==========\n",
      "134.0    1159\n",
      "150.0    1714\n",
      "175.0    2912\n",
      "Name: Pack_Size, dtype: int64\n"
     ]
    },
    {
     "data": {
      "image/png": "[encoded data removed]",
      "text/plain": [
       "<Figure size 360x72 with 1 Axes>"
      ]
     },
     "metadata": {
      "needs_background": "light"
     },
     "output_type": "display_data"
    },
    {
     "name": "stdout",
     "output_type": "stream",
     "text": [
      "========== MIDAGE SINGLES/COUPLES - Budget ==========\n",
      "134.0     449\n",
      "150.0     746\n",
      "175.0    1256\n",
      "Name: Pack_Size, dtype: int64\n"
     ]
    },
    {
     "data": {
      "image/png": "[encoded data removed]",
      "text/plain": [
       "<Figure size 360x72 with 1 Axes>"
      ]
     },
     "metadata": {
      "needs_background": "light"
     },
     "output_type": "display_data"
    },
    {
     "name": "stdout",
     "output_type": "stream",
     "text": [
      "========== NEW FAMILIES - Premium ==========\n",
      "134.0    165\n",
      "150.0    225\n",
      "175.0    371\n",
      "Name: Pack_Size, dtype: int64\n"
     ]
    },
    {
     "data": {
      "image/png": "[encoded data removed]",
      "text/plain": [
       "<Figure size 360x72 with 1 Axes>"
      ]
     },
     "metadata": {
      "needs_background": "light"
     },
     "output_type": "display_data"
    },
    {
     "name": "stdout",
     "output_type": "stream",
     "text": [
      "========== NEW FAMILIES - Mainstream ==========\n",
      "134.0    224\n",
      "150.0    362\n",
      "175.0    579\n",
      "Name: Pack_Size, dtype: int64\n"
     ]
    },
    {
     "data": {
      "image/png": "[encoded data removed]",
      "text/plain": [
       "<Figure size 360x72 with 1 Axes>"
      ]
     },
     "metadata": {
      "needs_background": "light"
     },
     "output_type": "display_data"
    },
    {
     "name": "stdout",
     "output_type": "stream",
     "text": [
      "========== NEW FAMILIES - Budget ==========\n",
      "134.0    309\n",
      "150.0    425\n",
      "175.0    763\n",
      "Name: Pack_Size, dtype: int64\n"
     ]
    },
    {
     "data": {
      "image/png": "[encoded data removed]",
      "text/plain": [
       "<Figure size 360x72 with 1 Axes>"
      ]
     },
     "metadata": {
      "needs_background": "light"
     },
     "output_type": "display_data"
    },
    {
     "name": "stdout",
     "output_type": "stream",
     "text": [
      "========== OLDER FAMILIES - Premium ==========\n",
      "134.0    1014\n",
      "150.0    1607\n",
      "175.0    2747\n",
      "Name: Pack_Size, dtype: int64\n"
     ]
    },
    {
     "data": {
      "image/png": "[encoded data removed]",
      "text/plain": [
       "<Figure size 360x72 with 1 Axes>"
      ]
     },
     "metadata": {
      "needs_background": "light"
     },
     "output_type": "display_data"
    },
    {
     "name": "stdout",
     "output_type": "stream",
     "text": [
      "========== OLDER FAMILIES - Mainstream ==========\n",
      "134.0    1234\n",
      "150.0    2091\n",
      "175.0    3489\n",
      "Name: Pack_Size, dtype: int64\n"
     ]
    },
    {
     "data": {
      "image/png": "[encoded data removed]",
      "text/plain": [
       "<Figure size 360x72 with 1 Axes>"
      ]
     },
     "metadata": {
      "needs_background": "light"
     },
     "output_type": "display_data"
    },
    {
     "name": "stdout",
     "output_type": "stream",
     "text": [
      "========== OLDER FAMILIES - Budget ==========\n",
      "134.0    1996\n",
      "150.0    3414\n",
      "175.0    5662\n",
      "Name: Pack_Size, dtype: int64\n"
     ]
    },
    {
     "data": {
      "image/png": "[encoded data removed]",
      "text/plain": [
       "<Figure size 360x72 with 1 Axes>"
      ]
     },
     "metadata": {
      "needs_background": "light"
     },
     "output_type": "display_data"
    },
    {
     "name": "stdout",
     "output_type": "stream",
     "text": [
      "========== RETIREES - Premium ==========\n",
      "134.0    1331\n",
      "150.0    1883\n",
      "175.0    3232\n",
      "Name: Pack_Size, dtype: int64\n"
     ]
    },
    {
     "data": {
      "image/png": "[encoded data removed]",
      "text/plain": [
       "<Figure size 360x72 with 1 Axes>"
      ]
     },
     "metadata": {
      "needs_background": "light"
     },
     "output_type": "display_data"
    },
    {
     "name": "stdout",
     "output_type": "stream",
     "text": [
      "========== RETIREES - Mainstream ==========\n",
      "134.0    2103\n",
      "150.0    3183\n",
      "175.0    5187\n",
      "Name: Pack_Size, dtype: int64\n"
     ]
    },
    {
     "data": {
      "image/png": "[encoded data removed]",
      "text/plain": [
       "<Figure size 360x72 with 1 Axes>"
      ]
     },
     "metadata": {
      "needs_background": "light"
     },
     "output_type": "display_data"
    },
    {
     "name": "stdout",
     "output_type": "stream",
     "text": [
      "========== RETIREES - Budget ==========\n",
      "134.0    1517\n",
      "150.0    2242\n",
      "175.0    3768\n",
      "Name: Pack_Size, dtype: int64\n"
     ]
    },
    {
     "data": {
      "image/png": "[encoded data removed]",
      "text/plain": [
       "<Figure size 360x72 with 1 Axes>"
      ]
     },
     "metadata": {
      "needs_background": "light"
     },
     "output_type": "display_data"
    }
   ],
   "source": [
    "merged_pack = pd.concat([merged_data, pack_sizes.rename(\"Pack_Size\")], axis=1)\n",
    "\n",
    "for stage in merged_data[\"LIFESTAGE\"].unique():\n",
    "    for prem in merged_data[\"PREMIUM_CUSTOMER\"].unique():\n",
    "        print('==========',stage, '-', prem,'==========')\n",
    "        summary = merged_pack[(merged_pack[\"LIFESTAGE\"] == stage) & (merged_pack[\"PREMIUM_CUSTOMER\"] == prem)][\"Pack_Size\"].value_counts().head(3).sort_index()\n",
    "        print(summary)\n",
    "        plt.figure()\n",
    "        summary.plot.barh(figsize=(5,1))\n",
    "        plt.show()"
   ]
  },
  {
   "cell_type": "code",
   "execution_count": 57,
   "metadata": {},
   "outputs": [
    {
     "data": {
      "text/plain": [
       "LIFESTAGE               PREMIUM_CUSTOMER\n",
       "OLDER FAMILIES          Mainstream          9.255380\n",
       "                        Budget              9.076773\n",
       "                        Premium             9.071717\n",
       "YOUNG FAMILIES          Budget              8.722995\n",
       "                        Premium             8.716013\n",
       "                        Mainstream          8.638361\n",
       "OLDER SINGLES/COUPLES   Budget              6.781398\n",
       "                        Premium             6.769543\n",
       "                        Mainstream          6.712021\n",
       "MIDAGE SINGLES/COUPLES  Mainstream          6.432080\n",
       "RETIREES                Budget              6.141847\n",
       "                        Premium             6.103358\n",
       "MIDAGE SINGLES/COUPLES  Premium             6.078514\n",
       "                        Budget              6.026459\n",
       "RETIREES                Mainstream          5.925920\n",
       "NEW FAMILIES            Mainstream          4.891566\n",
       "                        Budget              4.821527\n",
       "                        Premium             4.815652\n",
       "YOUNG SINGLES/COUPLES   Mainstream          4.575597\n",
       "                        Premium             4.264113\n",
       "                        Budget              4.250069\n",
       "dtype: float64"
      ]
     },
     "execution_count": 57,
     "metadata": {},
     "output_type": "execute_result"
    }
   ],
   "source": [
    "(temp.groupby([\"LIFESTAGE\", \"PREMIUM_CUSTOMER\"])[\"PROD_QTY\"].sum() / temp.groupby([\"LIFESTAGE\", \"PREMIUM_CUSTOMER\"])[\"LYLTY_CARD_NBR\"].nunique()).sort_values(ascending=False)"
   ]
  },
  {
   "cell_type": "code",
   "execution_count": 58,
   "metadata": {},
   "outputs": [
    {
     "data": {
      "image/png": "[encoded data removed]",
      "text/plain": [
       "<Figure size 1080x288 with 1 Axes>"
      ]
     },
     "metadata": {
      "needs_background": "light"
     },
     "output_type": "display_data"
    }
   ],
   "source": [
    "(temp.groupby([\"LIFESTAGE\", \"PREMIUM_CUSTOMER\"])[\"PROD_QTY\"].sum() / temp.groupby([\"LIFESTAGE\", \"PREMIUM_CUSTOMER\"])[\"LYLTY_CARD_NBR\"].nunique()).unstack().plot.bar(figsize=(15,4), rot=0)\n",
    "plt.legend(loc=\"center left\", bbox_to_anchor=(1.0, 0.5))\n",
    "plt.savefig(\"Average purchase quantity per segment.png\", bbox_inches=\"tight\")"
   ]
  },
  {
   "cell_type": "code",
   "execution_count": 60,
   "metadata": {},
   "outputs": [
    {
     "data": {
      "text/plain": [
       "Segment\n",
       "YOUNG SINGLES/COUPLES - Mainstream     4.065642\n",
       "MIDAGE SINGLES/COUPLES - Mainstream    3.994241\n",
       "RETIREES - Budget                      3.924404\n",
       "RETIREES - Premium                     3.920942\n",
       "NEW FAMILIES - Budget                  3.917688\n",
       "NEW FAMILIES - Mainstream              3.916133\n",
       "OLDER SINGLES/COUPLES - Premium        3.893182\n",
       "OLDER SINGLES/COUPLES - Budget         3.882096\n",
       "NEW FAMILIES - Premium                 3.872110\n",
       "RETIREES - Mainstream                  3.844294\n",
       "OLDER SINGLES/COUPLES - Mainstream     3.814665\n",
       "MIDAGE SINGLES/COUPLES - Premium       3.770698\n",
       "YOUNG FAMILIES - Premium               3.762150\n",
       "YOUNG FAMILIES - Budget                3.760737\n",
       "OLDER FAMILIES - Budget                3.745340\n",
       "MIDAGE SINGLES/COUPLES - Budget        3.743328\n",
       "OLDER FAMILIES - Mainstream            3.737077\n",
       "YOUNG FAMILIES - Mainstream            3.724533\n",
       "OLDER FAMILIES - Premium               3.717000\n",
       "YOUNG SINGLES/COUPLES - Premium        3.665414\n",
       "YOUNG SINGLES/COUPLES - Budget         3.657366\n",
       "Name: Unit_Price, dtype: float64"
      ]
     },
     "execution_count": 60,
     "metadata": {},
     "output_type": "execute_result"
    }
   ],
   "source": [
    "#Average chips price per transaction by segments\n",
    "temp[\"Unit_Price\"] = temp[\"TOT_SALES\"] / temp[\"PROD_QTY\"]\n",
    "temp.groupby([\"Segment\"]).mean()[\"Unit_Price\"].sort_values(ascending=False)"
   ]
  },
  {
   "cell_type": "code",
   "execution_count": 61,
   "metadata": {},
   "outputs": [
    {
     "data": {
      "text/plain": [
       "<matplotlib.legend.Legend at 0x1f4d94f6760>"
      ]
     },
     "execution_count": 61,
     "metadata": {},
     "output_type": "execute_result"
    },
    {
     "data": {
      "image/png": "[encoded data removed]",
      "text/plain": [
       "<Figure size 1080x288 with 1 Axes>"
      ]
     },
     "metadata": {
      "needs_background": "light"
     },
     "output_type": "display_data"
    }
   ],
   "source": [
    "temp.groupby([\"LIFESTAGE\", \"PREMIUM_CUSTOMER\"]).mean()[\"Unit_Price\"].unstack().plot.bar(figsize=(15,4), rot=0)\n",
    "plt.legend(loc=\"center left\", bbox_to_anchor=(1,0.5))"
   ]
  },
  {
   "cell_type": "markdown",
   "metadata": {},
   "source": [
    "Insights:\n",
    "\n",
    "Top 3 total sales contributor segment are\n",
    "\n",
    "Older families (Budget) \\$156,864\n",
    "Young Singles/Couples (Mainstream) \\$147,582\n",
    "Retirees (Mainstream) \\$145,169\n",
    "Young Singles/Couples (Mainstream) has the highest population, followed by Retirees (Mainstream). Which explains their high total sales.\n",
    "\n",
    "Despite Older Families not having the highest population, they have the highest frequency of purchase, which contributes to their high total sales.\n",
    "Older Families followed by Young Families has the highest average quantity of chips bought per purchase.\n",
    "The Mainstream category of the \"Young and Midage Singles/Couples\" have the highest spending of chips per purchase. And the difference to the non-Mainstream \"Young and Midage Singles/Couples\" are statistically significant.\n",
    "Chips brand Kettle is dominating every segment as the most purchased brand.\n",
    "Observing the 2nd most purchased brand, \"Young and Midage Singles/Couples\" is the only segment with a different preference (Doritos) as compared to others' (Smiths).\n",
    "Most frequent chip size purchased is 175gr followed by the 150gr chip size for all segments."
   ]
  },
  {
   "cell_type": "code",
   "execution_count": 62,
   "metadata": {},
   "outputs": [
    {
     "data": {
      "text/html": [
       "<div>\n",
       "<style scoped>\n",
       "    .dataframe tbody tr th:only-of-type {\n",
       "        vertical-align: middle;\n",
       "    }\n",
       "\n",
       "    .dataframe tbody tr th {\n",
       "        vertical-align: top;\n",
       "    }\n",
       "\n",
       "    .dataframe thead th {\n",
       "        text-align: right;\n",
       "    }\n",
       "</style>\n",
       "<table border=\"1\" class=\"dataframe\">\n",
       "  <thead>\n",
       "    <tr style=\"text-align: right;\">\n",
       "      <th></th>\n",
       "      <th>Segment</th>\n",
       "      <th>Cleaned_Brand_Names</th>\n",
       "      <th>TOT_SALES</th>\n",
       "    </tr>\n",
       "  </thead>\n",
       "  <tbody>\n",
       "    <tr>\n",
       "      <th>0</th>\n",
       "      <td>YOUNG SINGLES/COUPLES - Mainstream</td>\n",
       "      <td>Kettle</td>\n",
       "      <td>35423.6</td>\n",
       "    </tr>\n",
       "    <tr>\n",
       "      <th>8</th>\n",
       "      <td>YOUNG SINGLES/COUPLES - Mainstream</td>\n",
       "      <td>Doritos</td>\n",
       "      <td>20925.9</td>\n",
       "    </tr>\n",
       "    <tr>\n",
       "      <th>22</th>\n",
       "      <td>YOUNG SINGLES/COUPLES - Mainstream</td>\n",
       "      <td>Pringles</td>\n",
       "      <td>16006.2</td>\n",
       "    </tr>\n",
       "    <tr>\n",
       "      <th>24</th>\n",
       "      <td>YOUNG SINGLES/COUPLES - Mainstream</td>\n",
       "      <td>Smiths</td>\n",
       "      <td>14958.9</td>\n",
       "    </tr>\n",
       "    <tr>\n",
       "      <th>54</th>\n",
       "      <td>YOUNG SINGLES/COUPLES - Mainstream</td>\n",
       "      <td>Infuzions</td>\n",
       "      <td>8749.4</td>\n",
       "    </tr>\n",
       "    <tr>\n",
       "      <th>61</th>\n",
       "      <td>YOUNG SINGLES/COUPLES - Mainstream</td>\n",
       "      <td>Twisties</td>\n",
       "      <td>7539.8</td>\n",
       "    </tr>\n",
       "    <tr>\n",
       "      <th>69</th>\n",
       "      <td>YOUNG SINGLES/COUPLES - Mainstream</td>\n",
       "      <td>Tostitos</td>\n",
       "      <td>7238.0</td>\n",
       "    </tr>\n",
       "    <tr>\n",
       "      <th>70</th>\n",
       "      <td>YOUNG SINGLES/COUPLES - Mainstream</td>\n",
       "      <td>Thins</td>\n",
       "      <td>7217.1</td>\n",
       "    </tr>\n",
       "    <tr>\n",
       "      <th>84</th>\n",
       "      <td>YOUNG SINGLES/COUPLES - Mainstream</td>\n",
       "      <td>Cobs</td>\n",
       "      <td>6144.6</td>\n",
       "    </tr>\n",
       "    <tr>\n",
       "      <th>115</th>\n",
       "      <td>YOUNG SINGLES/COUPLES - Mainstream</td>\n",
       "      <td>Tyrrells</td>\n",
       "      <td>4800.6</td>\n",
       "    </tr>\n",
       "    <tr>\n",
       "      <th>122</th>\n",
       "      <td>YOUNG SINGLES/COUPLES - Mainstream</td>\n",
       "      <td>RRD</td>\n",
       "      <td>4509.9</td>\n",
       "    </tr>\n",
       "    <tr>\n",
       "      <th>136</th>\n",
       "      <td>YOUNG SINGLES/COUPLES - Mainstream</td>\n",
       "      <td>Grain Waves</td>\n",
       "      <td>4201.0</td>\n",
       "    </tr>\n",
       "    <tr>\n",
       "      <th>172</th>\n",
       "      <td>YOUNG SINGLES/COUPLES - Mainstream</td>\n",
       "      <td>Cheezels</td>\n",
       "      <td>3318.3</td>\n",
       "    </tr>\n",
       "    <tr>\n",
       "      <th>227</th>\n",
       "      <td>YOUNG SINGLES/COUPLES - Mainstream</td>\n",
       "      <td>Natural Chip Co</td>\n",
       "      <td>2130.0</td>\n",
       "    </tr>\n",
       "    <tr>\n",
       "      <th>258</th>\n",
       "      <td>YOUNG SINGLES/COUPLES - Mainstream</td>\n",
       "      <td>Woolworths</td>\n",
       "      <td>1605.8</td>\n",
       "    </tr>\n",
       "    <tr>\n",
       "      <th>298</th>\n",
       "      <td>YOUNG SINGLES/COUPLES - Mainstream</td>\n",
       "      <td>Cheetos</td>\n",
       "      <td>898.8</td>\n",
       "    </tr>\n",
       "    <tr>\n",
       "      <th>308</th>\n",
       "      <td>YOUNG SINGLES/COUPLES - Mainstream</td>\n",
       "      <td>CCs</td>\n",
       "      <td>850.5</td>\n",
       "    </tr>\n",
       "    <tr>\n",
       "      <th>362</th>\n",
       "      <td>YOUNG SINGLES/COUPLES - Mainstream</td>\n",
       "      <td>French</td>\n",
       "      <td>429.0</td>\n",
       "    </tr>\n",
       "    <tr>\n",
       "      <th>371</th>\n",
       "      <td>YOUNG SINGLES/COUPLES - Mainstream</td>\n",
       "      <td>Sunbites</td>\n",
       "      <td>391.0</td>\n",
       "    </tr>\n",
       "    <tr>\n",
       "      <th>394</th>\n",
       "      <td>YOUNG SINGLES/COUPLES - Mainstream</td>\n",
       "      <td>Burger</td>\n",
       "      <td>243.8</td>\n",
       "    </tr>\n",
       "  </tbody>\n",
       "</table>\n",
       "</div>"
      ],
      "text/plain": [
       "                                Segment Cleaned_Brand_Names  TOT_SALES\n",
       "0    YOUNG SINGLES/COUPLES - Mainstream              Kettle    35423.6\n",
       "8    YOUNG SINGLES/COUPLES - Mainstream             Doritos    20925.9\n",
       "22   YOUNG SINGLES/COUPLES - Mainstream            Pringles    16006.2\n",
       "24   YOUNG SINGLES/COUPLES - Mainstream              Smiths    14958.9\n",
       "54   YOUNG SINGLES/COUPLES - Mainstream           Infuzions     8749.4\n",
       "61   YOUNG SINGLES/COUPLES - Mainstream            Twisties     7539.8\n",
       "69   YOUNG SINGLES/COUPLES - Mainstream            Tostitos     7238.0\n",
       "70   YOUNG SINGLES/COUPLES - Mainstream               Thins     7217.1\n",
       "84   YOUNG SINGLES/COUPLES - Mainstream                Cobs     6144.6\n",
       "115  YOUNG SINGLES/COUPLES - Mainstream            Tyrrells     4800.6\n",
       "122  YOUNG SINGLES/COUPLES - Mainstream                 RRD     4509.9\n",
       "136  YOUNG SINGLES/COUPLES - Mainstream         Grain Waves     4201.0\n",
       "172  YOUNG SINGLES/COUPLES - Mainstream            Cheezels     3318.3\n",
       "227  YOUNG SINGLES/COUPLES - Mainstream     Natural Chip Co     2130.0\n",
       "258  YOUNG SINGLES/COUPLES - Mainstream          Woolworths     1605.8\n",
       "298  YOUNG SINGLES/COUPLES - Mainstream             Cheetos      898.8\n",
       "308  YOUNG SINGLES/COUPLES - Mainstream                 CCs      850.5\n",
       "362  YOUNG SINGLES/COUPLES - Mainstream              French      429.0\n",
       "371  YOUNG SINGLES/COUPLES - Mainstream            Sunbites      391.0\n",
       "394  YOUNG SINGLES/COUPLES - Mainstream              Burger      243.8"
      ]
     },
     "execution_count": 62,
     "metadata": {},
     "output_type": "execute_result"
    }
   ],
   "source": [
    "z = temp.groupby([\"Segment\", \"Cleaned_Brand_Names\"]).sum()[\"TOT_SALES\"].sort_values(ascending=False).reset_index()\n",
    "z[z[\"Segment\"] == \"YOUNG SINGLES/COUPLES - Mainstream\"]"
   ]
  }
 ],
 "metadata": {
  "kernelspec": {
   "display_name": "Python 3",
   "language": "python",
   "name": "python3"
  },
  "language_info": {
   "codemirror_mode": {
    "name": "ipython",
    "version": 3
   },
   "file_extension": ".py",
   "mimetype": "text/x-python",
   "name": "python",
   "nbconvert_exporter": "python",
   "pygments_lexer": "ipython3",
   "version": "3.8.3"
  }
 },
 "nbformat": 4,
 "nbformat_minor": 4
}
